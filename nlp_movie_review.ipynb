{
  "nbformat": 4,
  "nbformat_minor": 0,
  "metadata": {
    "colab": {
      "name": "nlp_movie_review.ipynb",
      "provenance": []
    },
    "kernelspec": {
      "name": "python3",
      "display_name": "Python 3"
    },
    "language_info": {
      "name": "python"
    }
  },
  "cells": [
    {
      "cell_type": "code",
      "metadata": {
        "id": "G7LHH_NKLWsz"
      },
      "source": [
        "import pandas as pd\n",
        "from sklearn.feature_extraction.text import CountVectorizer\n",
        "from sklearn.model_selection import train_test_split\n",
        "from sklearn.linear_model import LogisticRegression\n",
        "from termcolor import colored"
      ],
      "execution_count": 1,
      "outputs": []
    },
    {
      "cell_type": "code",
      "metadata": {
        "colab": {
          "base_uri": "https://localhost:8080/"
        },
        "id": "tAV0gU_5LioB",
        "outputId": "4faad590-24ea-4281-8993-26bf8170f9f3"
      },
      "source": [
        "filepath_dict = {'imdb': 'reviews.txt'}\n",
        "\n",
        "df_list = []\n",
        "for source, filepath in filepath_dict.items():\n",
        "  df = pd.read_csv(filepath, names=['sentence', 'label'], sep='\\t')\n",
        "  df_list.append(df)\n",
        "\n",
        "df = pd.concat(df_list)\n",
        "print(colored('Visualizing the dataset', 'green'))\n",
        "print(df.iloc[0], '\\n')"
      ],
      "execution_count": 3,
      "outputs": [
        {
          "output_type": "stream",
          "name": "stdout",
          "text": [
            "\u001b[32mVisualizing the dataset\u001b[0m\n",
            "sentence    A very, very, very slow-moving, aimless movie ...\n",
            "label                                                       0\n",
            "Name: 0, dtype: object \n",
            "\n"
          ]
        }
      ]
    },
    {
      "cell_type": "code",
      "metadata": {
        "colab": {
          "base_uri": "https://localhost:8080/"
        },
        "id": "mpPxpUnGM0M9",
        "outputId": "e3318f10-b952-4db7-fccb-1b06adb7dbe5"
      },
      "source": [
        "sentences = df['sentence']\n",
        "vectorizer = CountVectorizer(min_df=0, lowercase=False)\n",
        "vectorizer.fit(sentences)\n",
        "\n",
        "print(colored('Vocabulary of all the unique words in the sentence', 'green'))\n",
        "print(vectorizer.vocabulary_, '\\n')\n",
        "\n",
        "vectorizer.transform(sentences).toarray()"
      ],
      "execution_count": 6,
      "outputs": [
        {
          "output_type": "stream",
          "name": "stdout",
          "text": [
            "\u001b[32mVocabulary of all the unique words in the sentence\u001b[0m\n",
            "{'very': 3172, 'slow': 2774, 'moving': 2205, 'aimless': 840, 'movie': 2203, 'about': 791, 'distressed': 1390, 'drifting': 1423, 'young': 3316, 'man': 2115, 'Not': 510, 'sure': 2913, 'who': 3255, 'was': 3215, 'more': 2189, 'lost': 2087, 'the': 2973, 'flat': 1646, 'characters': 1111, 'or': 2300, 'audience': 924, 'nearly': 2228, 'half': 1781, 'of': 2279, 'whom': 3259, 'walked': 3203, 'out': 2310, 'Attempting': 81, 'artiness': 900, 'with': 3270, 'black': 996, 'white': 3253, 'and': 868, 'clever': 1152, 'camera': 1066, 'angles': 870, 'disappointed': 1373, 'became': 966, 'even': 1512, 'ridiculous': 2601, 'as': 904, 'acting': 807, 'poor': 2421, 'plot': 2406, 'lines': 2063, 'almost': 849, 'non': 2248, 'existent': 1540, 'Very': 735, 'little': 2067, 'music': 2212, 'anything': 882, 'to': 3023, 'speak': 2812, 'The': 681, 'best': 984, 'scene': 2653, 'in': 1905, 'when': 3245, 'Gerardo': 297, 'is': 1963, 'trying': 3075, 'find': 1631, 'song': 2798, 'that': 2972, 'keeps': 1989, 'running': 2627, 'through': 3006, 'his': 1840, 'head': 1805, 'rest': 2586, 'lacks': 2010, 'art': 898, 'charm': 1114, 'meaning': 2139, 'If': 365, 'it': 1967, 'emptiness': 1473, 'works': 3288, 'guess': 1770, 'because': 967, 'empty': 1474, 'Wasted': 749, 'two': 3086, 'hours': 1865, 'Saw': 600, 'today': 3024, 'thought': 2997, 'good': 1747, 'effort': 1451, 'messages': 2158, 'for': 1663, 'kids': 1993, 'bit': 994, 'predictable': 2441, 'Loved': 449, 'casting': 1089, 'Jimmy': 395, 'Buffet': 132, 'science': 2660, 'teacher': 2948, 'And': 61, 'those': 2995, 'baby': 941, 'owls': 2325, 'were': 3240, 'adorable': 822, 'showed': 2735, 'lot': 2088, 'Florida': 267, 'at': 915, 'made': 2103, 'look': 2080, 'appealing': 885, 'Songs': 634, 'Were': 760, 'Best': 111, 'Muppets': 490, 'So': 632, 'Hilarious': 341, 'It': 379, 'Was': 747, 'Cool': 178, 'This': 689, 'right': 2603, 'on': 2290, 'case': 1085, 'delivers': 1327, 'everything': 1518, 'your': 3318, 'face': 1566, 'had': 1777, 'some': 2792, 'average': 928, 'from': 1688, 'main': 2105, 'person': 2372, 'low': 2096, 'budget': 1050, 'you': 3315, 'clearly': 1151, 'can': 1070, 'see': 2680, 'review': 2597, 'long': 2078, 'overdue': 2319, 'since': 2749, 'consider': 1214, 'Tale': 674, 'Two': 717, 'Sisters': 626, 'be': 962, 'single': 2753, 'greatest': 1762, 'film': 1622, 'ever': 1514, 'll': 2071, 'put': 2492, 'this': 2993, 'gem': 1715, 'up': 3148, 'against': 833, 'any': 880, 'terms': 2966, 'screenplay': 2666, 'cinematography': 1145, 'post': 2432, 'production': 2466, 'editing': 1445, 'directing': 1368, 'other': 2306, 'aspect': 908, 'making': 2112, 'practically': 2438, 'perfect': 2364, 'all': 846, 'them': 2979, 'true': 3071, 'masterpiece': 2128, 'sea': 2673, 'faux': 1602, 'masterpieces': 2129, 'structure': 2868, 'easily': 1440, 'most': 2191, 'tightly': 3014, 'constructed': 1222, 'history': 1841, 'cinema': 1142, 'think': 2991, 'no': 2244, 'where': 3247, 'something': 2794, 'vitally': 3191, 'important': 1896, 'occurs': 2277, 'every': 1515, 'minute': 2168, 'In': 369, 'words': 3284, 'content': 1226, 'level': 2046, 'enough': 1491, 'fill': 1621, 'dozen': 1411, 'films': 1626, 'How': 352, 'anyone': 881, 'their': 2978, 'mind': 2164, 'ask': 906, 'than': 2971, 'quite': 2503, 'simply': 2748, 'highest': 1831, 'superlative': 2908, 'form': 1673, 'imaginable': 1890, 'Yes': 782, 'does': 1397, 'require': 2581, 'rather': 2515, 'significant': 2743, 'amount': 864, 'puzzle': 2494, 'solving': 2791, 'but': 1058, 'pieces': 2385, 'fit': 1641, 'together': 3025, 'create': 1266, 'beautiful': 964, 'picture': 2382, 'short': 2728, 'certainly': 1102, 'pulls': 2485, 'punches': 2487, 'Graphics': 311, 'far': 1590, 'part': 2346, 'game': 1708, 'number': 2264, 'one': 2292, 'TH': 667, 'series': 2701, 'deserves': 1340, 'strong': 2866, 'love': 2092, 'an': 866, 'insane': 1928, 'There': 684, 'are': 893, 'massive': 2125, 'levels': 2047, 'unlockable': 3130, 'just': 1986, 'Waste': 748, 'money': 2182, 'kind': 1998, 'wasted': 3220, 'properly': 2474, 'Actually': 44, 'graphics': 1758, 'time': 3015, 'Today': 699, 'crap': 1262, 'As': 77, 'they': 2987, 'say': 2645, 'Canada': 146, 'fun': 1696, 'aye': 938, 'rocks': 2611, 'Buy': 136, 'play': 2394, 'enjoy': 1487, 'PURE': 536, 'BRILLIANCE': 91, 'flick': 1651, 'doomed': 1406, 'its': 1968, 'conception': 1200, 'idea': 1880, 'lame': 2013, 'take': 2934, 'minor': 2167, 'character': 1109, 'mediocre': 2143, 'PG': 532, '13': 2, 'make': 2108, 'complete': 1189, 'sequel': 2697, 'while': 3250, 'changing': 1108, 'tone': 3029, 'rated': 2514, 'family': 1583, 'wasn': 3218, 'least': 2033, 'interested': 1950, 'only': 2294, 'did': 1360, 'confirm': 1208, 'would': 3297, 'unfunny': 3123, 'generic': 1718, 'also': 853, 'managed': 2116, 'give': 1732, 'away': 934, 'ENTIRE': 220, 'not': 2256, 'exaggerating': 1525, 'moment': 2179, 'point': 2413, 'joke': 1977, 'told': 3026, 'trailer': 3049, 'But': 135, 'funny': 1700, 'talented': 2940, 'Carrell': 152, 'save': 2642, 'His': 343, 'co': 1161, 'stars': 2837, 'don': 1403, 'fare': 1592, 'much': 2206, 'better': 985, 'people': 2363, 'like': 2055, 'Morgan': 484, 'Freeman': 278, 'Jonah': 398, 'Hill': 342, 'Ed': 228, 'Helms': 334, 'story': 2857, 'itself': 1969, 'lazy': 2028, 'real': 2524, 'effects': 1450, 'work': 3285, 'presence': 2447, 'animals': 873, 'integration': 1942, 'into': 1955, 'scenes': 2655, 'worst': 3292, 'obvious': 2272, 'blue': 1005, 'green': 1764, 'screen': 2664, 've': 3165, 'seen': 2685, 'whatever': 3243, 'cost': 1249, 'so': 2783, 'didn': 1361, 'translate': 3054, 'quality': 2497, 'succeeds': 2891, 'despite': 1348, 'perhaps': 2369, 'obviously': 2273, 'meagre': 2136, 'glad': 1736, 'go': 1740, 'choice': 1137, 'lesser': 2042, 'have': 1801, 'addition': 818, 'having': 1803, 'lovely': 2094, 'songs': 2799, 'written': 3306, 'French': 279, 'Cancan': 147, 'boasts': 1007, 'cutest': 1290, 'leading': 2030, 'ladies': 2011, 'grace': 1754, 'hard': 1795, 'fall': 1577, 'over': 2315, 'heels': 1813, 'girl': 1729, 'On': 524, 'negative': 2233, 'insipid': 1931, 'cause': 1093, 'regret': 2548, 'another': 878, 'life': 2052, 'front': 1689, 'Long': 443, 'whiny': 3252, 'pointless': 2415, 'recommend': 2538, 'waiting': 3200, 'future': 1702, 'efforts': 1452, 'let': 2043, 'Excellent': 247, 'cast': 1087, 'line': 2061, 'performances': 2368, 'Totally': 707, 'believable': 978, 'Anne': 69, 'Heche': 332, 'utterly': 3161, 'convincing': 1242, 'Sam': 595, 'Shepard': 620, 'portrayal': 2425, 'gung': 1773, 'ho': 1842, 'Marine': 464, 'sobering': 2785, 'sat': 2640, 'riveted': 2608, 'TV': 672, 'All': 53, 'resounding': 2584, '10': 0, 'do': 1393, 'Tom': 700, 'Hanks': 323, 'actor': 810, 'enjoyed': 1489, 'reading': 2522, 'book': 1017, 'my': 2215, 'children': 1132, 'One': 525, 'totally': 3039, 'annoying': 877, 'voice': 3194, 'gives': 1734, 'me': 2135, 'feeling': 1609, 'fingernails': 1635, 'chalkboard': 1103, 'unnecessary': 3134, 'train': 3050, 'roller': 2615, 'coaster': 1164, 'absolutely': 794, 'warmth': 3210, 'these': 2986, 'grates': 1760, 'nerves': 2235, 'improved': 1901, 'by': 1059, 'improvisation': 1903, 'actors': 811, 'now': 2263, 'twice': 3082, 'worry': 3290, 'whether': 3248, 're': 2519, 'delivering': 1326, 'well': 3238, 'honestly': 1852, 'often': 2285, 'Often': 517, 'dialogue': 1358, 'doesn': 1398, 'really': 2530, 'follow': 1657, 'surroundings': 2921, 'crackles': 1260, 'unpredictable': 3139, 'youthful': 3320, 'energy': 1484, 'found': 1678, 'concentrate': 1199, 'meanders': 2138, 'badly': 947, 'generally': 1716, 'great': 1761, 'things': 2990, 'wouldn': 3298, 'worth': 3293, 'though': 2996, 'suspense': 2923, 'builders': 1052, 'cross': 1282, 'especially': 1505, 'liked': 2056, 'cliche': 1153, 'choices': 1138, 'parents': 2345, 'movies': 2204, 'could': 1252, 'predict': 2440, 'dialog': 1356, 'verbatim': 3168, 'writing': 3305, 'selections': 2686, 'want': 3205, 'gross': 1767, 'chills': 1134, 'Alexander': 52, 'Nevsky': 503, 'He': 331, 'amazing': 860, 'artist': 901, 'whoever': 3256, 'lived': 2068, 'pretentious': 2450, 'piece': 2384, 'planned': 2392, 'Dodge': 211, 'stratus': 2861, 'Big': 115, 'Shots': 623, 'gonna': 1746, 'help': 1817, 'makers': 2110, 'aren': 894, 'restrained': 2587, 'business': 1057, 'Québec': 563, 'if': 1888, 'first': 1637, 'given': 1733, 'years': 3312, 'there': 2985, 'needed': 2231, 'word': 3283, 'mouth': 2198, 'promote': 2470, 'Overall': 531, 'interesting': 1951, 'provoking': 2479, 'Plus': 552, 'paced': 2331, 'suited': 2901, 'relatively': 2557, 'run': 2626, 'Give': 303, 'gave': 1712, 'Wind': 770, 'Lion': 440, 'superbly': 2906, 'acted': 806, 'classic': 1148, 'actually': 814, 'turned': 3080, 'pretty': 2452, 'decent': 1312, 'list': 2064, 'horror': 1861, 'Definitely': 202, 'checking': 1121, 'problem': 2457, 'script': 2668, 'horrendous': 1856, 'NOTHING': 497, 'frustration': 1691, 'how': 1868, 'retarded': 2591, 'girls': 1731, 'MANNA': 455, 'FROM': 252, 'HEAVEN': 318, 'terrific': 2969, 'both': 1027, 'same': 2636, 'occasionally': 2274, 'touching': 3042, 'evaluate': 1511, 'lives': 2069, 'going': 1744, 'veteran': 3174, 'nostalgia': 2255, 'trip': 3068, 'Ursula': 728, 'Burton': 134, 'nun': 2266, 'nuns': 2267, 'church': 1141, 'looking': 2082, 'including': 1909, 'Shirley': 621, 'Jones': 399, 'rendition': 2571, 'Way': 754, 'You': 784, 'Look': 444, 'Tonight': 702, 'uplifting': 3149, 'ending': 1480, 'try': 3074, 'will': 3265, 'Frankly': 277, 'after': 830, 'Cotton': 181, 'club': 1160, 'Unfaithful': 723, 'embarrassing': 1464, 'watch': 3223, 'Lane': 425, 'Gere': 298, 'BAD': 87, 'bad': 946, 'dialogs': 1357, 'extremely': 1562, 'shallow': 2711, 'insincere': 1930, 'too': 3032, 'chick': 1129, 'Too': 704, 'politically': 2419, 'correct': 1248, 'disappointing': 1374, 'thing': 2989, 'watching': 3226, 'scenery': 2654, 'house': 1866, 'never': 2239, 'her': 1821, 'lousy': 2090, 'An': 60, 'hour': 1864, 'wish': 3269, 'bring': 1043, 'back': 943, 'fresh': 1683, 'bold': 1010, 'helps': 1819, 'along': 850, 'maybe': 2134, 'idiot': 1885, 'savant': 2641, 'sister': 2757, 'been': 970, 'played': 2395, 'joy': 1980, 'boring': 1024, 'sometimes': 2795, 'myself': 2216, 'occupied': 2275, 'peaking': 2358, 'paper': 2343, 'instead': 1936, 'happened': 1792, 'during': 1434, 'Columbo': 170, 'before': 971, 'seems': 2684, 'oh': 2286, 'mature': 2132, 'neighbour': 2234, 'misplace': 2172, 'weaker': 3233, 'episode': 1498, 'Then': 683, 'debated': 1308, 'sack': 2630, 'trumpeter': 3073, 'falsely': 1580, 'accused': 803, 'murder': 2208, 'pure': 2490, 'stupid': 2876, 'Some': 633, 'applause': 889, 'should': 2732, 'prelude': 2444, 'however': 1869, 'director': 1370, 'edge': 1444, 'seat': 2677, 'somewhat': 2796, 'afraid': 829, 'car': 1076, 'end': 1477, 'night': 2243, 'nice': 2242, 'advise': 825, 'Brilliant': 129, 'way': 3228, 'My': 491, 'playing': 2398, 'villain': 3182, 'rent': 2573, 'Michael': 476, 'Ironside': 376, 'rocked': 2610, 'world': 3289, 'must': 2214, 'social': 2786, 'physical': 2379, 'outlets': 2312, 'However': 356, 'fact': 1570, 'overall': 2317, 'tremendously': 3064, 'NO': 494, 'chemistry': 1128, 'between': 987, 'Ben': 107, 'Affleck': 46, 'Sandra': 596, 'Bullock': 133, 'couldn': 1253, 'understand': 3109, 'why': 3260, 'he': 1804, 'leaving': 2036, 'wife': 3262, 'supposedly': 2912, 'knocked': 2002, 'several': 2709, 'moments': 2180, 'need': 2230, 'excruciatingly': 1535, 'remake': 2564, 'Friends': 280, 'Wedding': 757, 'disappointment': 1375, 'cannot': 1072, 'believe': 979, 'agreed': 839, 'stand': 2832, 'fear': 1605, 'losing': 2086, 'nobody': 2246, 'network': 2238, 'aired': 842, 'dribble': 1421, 'watched': 3225, 'putting': 2493, 'IMDB': 361, 'ratings': 2517, 'awful': 936, 'get': 1723, 'numbers': 2265, 'cases': 1086, 'such': 2893, 'saw': 2644, 'Mirrormask': 480, 'last': 2016, 'unsatisfactory': 3145, 'experience': 1547, 'Unfortunately': 724, 'inexperience': 1925, 'direction': 1369, 'meant': 2141, 'passed': 2351, 'dramatic': 1415, 'tension': 2963, 'conflict': 1209, 'These': 685, 'central': 1099, 'themes': 2981, 'handled': 1786, 'ineptly': 1924, 'stereotypically': 2847, 'depth': 1334, 'imagination': 1891, 'pictures': 2383, 'flawed': 1648, 'core': 1246, 'waste': 3219, 'following': 1658, 'bunch': 1056, 'high': 1829, 'schoolers': 2658, 'whine': 3251, 'cry': 1285, 'relate': 2551, 'hell': 1815, 'barely': 955, 'definitely': 1320, 'cult': 1286, 'viewing': 3180, 'sharing': 2715, 'others': 2307, 'disaster': 1376, 'confuses': 1210, 'incredibly': 1914, 'fish': 1638, 'underwater': 3115, 'shots': 2731, 'repeated': 2575, 'thousand': 2999, 'times': 3019, 'truly': 3072, 'terrible': 2967, 'worse': 3291, 'possible': 2430, 'redeemed': 2542, 'MST3K': 458, 'fodder': 1656, 'paid': 2334, 'Also': 56, 'treat': 3061, 'Anthony': 71, 'Quinn': 562, 'Crazy': 185, 'Horse': 351, 'BORING': 90, 'No': 507, 'whatsoever': 3244, 'Again': 49, 'Horrible': 349, 'Worst': 778, 'Oh': 518, 'gosh': 1750, 'walk': 3202, 'theatre': 2975, 'few': 1617, 'minutes': 2169, 'relief': 2561, 'hate': 1798, 'Yeah': 781, 'sucked': 2895, 'THERE': 668, 'IS': 363, 'PLOT': 534, 'OR': 515, 'STORYLINE': 593, 'pillow': 2387, 'girlfriend': 1730, 'boyfriend': 1031, 'keep': 1988, 'Awful': 86, 'gone': 1745, 'disliked': 1384, 'tickets': 3013, 'five': 1642, 'dollars': 1401, 'mad': 2102, '50': 24, 'NOBODY': 495, 'identifies': 1883, 'cardboard': 1078, 'cutouts': 1292, 'stereotypes': 2846, 'predictably': 2442, 'reverse': 2596, 'ugly': 3091, 'cartoon': 1083, 'crafted': 1261, 'Paul': 541, 'Haggis': 322, 'handle': 1785, 'strokes': 2865, 'storytelling': 2859, 'painted': 2338, 'crayons': 1265, 'Crash': 184, 'depressing': 1333, 'nothing': 2261, 'provokes': 2478, 'emotion': 1468, 'teaches': 2949, 'already': 852, 'know': 2003, 'racism': 2506, 'prejudice': 2443, 'Still': 653, 'empowerment': 1472, 'women': 3275, 'Your': 786, 'brain': 1032, 'attempt': 919, 'shut': 2737, 'down': 1409, 'primal': 2454, 'impulse': 1904, 'self': 2687, 'preservation': 2449, 'left': 2037, 'shattered': 2717, 'took': 3033, 'fully': 1694, 'recover': 2540, 'joins': 1976, 'Revenge': 576, 'Boogeyman': 121, 'Zombiez': 788, 'hellish': 1816, 'trinity': 3067, 'mean': 2137, 'distinction': 1387, 'has': 1796, 'redeeming': 2543, 'features': 1607, 'Everything': 245, 'appalling': 884, 'Artless': 76, 'endlessly': 1481, 'presents': 2448, 'us': 3153, 'ugliest': 3090, 'setting': 2707, 'beyond': 988, 'lead': 2029, 'charisma': 1112, 'free': 1681, 'Utterly': 729, 'without': 3272, 'merit': 2155, 'akin': 843, 'torture': 3036, 'again': 832, 'Maybe': 471, 'reasonable': 2532, 'explanation': 1552, 'atrocity': 918, 'pleasant': 2400, 'voyage': 3199, 'discovery': 1380, 'Highly': 340, 'unrecommended': 3142, 'premise': 2445, 'sound': 2805, 'Nothing': 512, 'excellent': 1527, 'performance': 2367, 'Ms': 488, 'Garbo': 290, 'off': 2280, 'bat': 961, 'talents': 2941, 'carry': 1081, 'silent': 2744, 'era': 1501, 'wanted': 3206, 'Netflix': 500, 'seem': 2682, 'stocking': 2852, 'renowned': 2572, 'screenwriter': 2667, 'Frances': 275, 'Marion': 465, 'hasn': 1797, 'missed': 2174, 'step': 2845, 'suffered': 2897, 'many': 2118, 'close': 1157, 'ups': 3151, 'seemed': 2683, 'drag': 1413, 'heroes': 1824, 'freedom': 1682, 'below': 982, 'ones': 2293, 'received': 2535, 'age': 834, 'John': 397, 'Wayne': 755, 'incredible': 1913, 'job': 1974, 'being': 977, 'industry': 1923, 'shined': 2725, 'senior': 2690, 'him': 1837, 'older': 2288, 'indulgent': 1922, 'junk': 1984, 'probably': 2456, 'hadn': 1778, 'spent': 2816, 'showcasing': 2734, 'own': 2326, 'which': 3249, 'isn': 1964, 'noteworthy': 2260, 'Another': 70, 'got': 1751, 'punched': 2486, 'gallon': 1707, 'blood': 1003, 'spew': 2817, 'forth': 1676, 'soon': 2800, 'Jamie': 385, 'Foxx': 274, 'Ray': 570, 'Charles': 158, 'genius': 1719, 'owns': 2328, 'Spacek': 639, 'owned': 2327, 'Coal': 167, 'Miner': 479, 'Daughter': 195, 'Quaid': 561, 'Great': 312, 'Balls': 95, 'Fire': 264, 'remember': 2566, 'himself': 1838, 'legendary': 2039, 'provided': 2477, 'biographical': 992, 'material': 2130, 'goes': 1743, 'musician': 2213, 'Hitchcock': 344, 'Ironically': 374, 'mostly': 2192, 'total': 3038, 'Secondly': 612, 'perfected': 2365, 'thriller': 3004, 'chase': 1116, 'pandering': 2340, 'sabotages': 2629, 'Hence': 335, 'whole': 3257, 'certain': 1101, 'rumbles': 2625, 'machine': 2101, 'desperately': 1345, 'depending': 1329, 'new': 2240, 'usual': 3159, 'logic': 2076, 'flaws': 1649, 'Mishima': 481, 'uninteresting': 3125, 'chilly': 1135, 'unremarkable': 3143, 'author': 927, 'living': 2070, 'working': 3287, 'abstruse': 795, 'culture': 1287, 'reenactments': 2544, 'hold': 1844, 'attention': 922, 'emotionally': 1469, 'adrift': 823, 'stagy': 2831, 'sits': 2763, 'soldiers': 2787, 'singing': 2752, 'masculinity': 2124, 'pledge': 2404, 'themselves': 2982, 'hairsplitting': 1780, 'purity': 2491, 'admiration': 820, 'swords': 2929, 'etc': 1510, 'bore': 1022, 'kill': 1994, 'momentum': 2181, 'quicker': 2501, 'else': 1461, 'Schrader': 603, 'resume': 2590, 'full': 1693, 'amateurish': 857, 'When': 763, '80s': 30, 'loved': 2093, 'fascinated': 1593, 'dancing': 1298, 'recently': 2537, 'DVD': 192, 'completely': 1191, 'struck': 2867, 'storyline': 2858, 'contained': 1223, 'holes': 1847, 'inconsistencies': 1911, 'frankly': 1680, 'horrid': 1859, 'realistic': 2526, 'she': 2718, 'NEVER': 493, 'gotten': 1752, 'ballet': 953, 'repertory': 2578, 'pathetic': 2355, 'developments': 1354, 'lacked': 2009, 'Woa': 772, 'talk': 2942, 'Do': 209, 'horrible': 1858, 'sappiest': 2639, 'what': 3242, 'unwatchable': 3147, 'tell': 2959, 'talent': 2939, 'action': 808, 'check': 1120, 'filmography': 1625, 'site': 2761, 'chance': 1105, 'intentions': 1947, 'then': 2983, 'might': 2162, 'master': 2126, 'theme': 2980, 'undertone': 3114, 'fifties': 1620, 'existential': 1541, 'weariness': 3234, 'aerial': 826, 'ought': 2308, 'thrilled': 3003, 'senses': 2692, 'deeply': 1317, 'care': 1079, 'Regrettably': 575, 'fails': 1573, 'visual': 3189, 'interest': 1949, 'drama': 1414, 'expression': 1556, 'celebration': 1095, 'patriotism': 2356, 'underlines': 3105, 'narrative': 2220, 'actress': 812, 'used': 3155, 'June': 404, 'Allison': 54, 'Yet': 783, 'plain': 2391, 'Bad': 93, 'called': 1062, 'soundtrack': 2808, 'concert': 1203, 'sequences': 2700, 'That': 680, 'cheap': 1118, 'trash': 3057, 'considering': 1217, 'ridiculousness': 2602, 'came': 1064, 'angry': 871, 'SPOILERS': 591, 'Whatever': 762, 'said': 2633, 'SURFACE': 594, 'stunning': 2875, 'fx': 1703, 'state': 2841, 'Conceptually': 171, 'show': 2733, 'offers': 2284, 'everybody': 1516, 'fantasy': 1589, 'fans': 1587, 'sour': 2809, 'note': 2259, 'wise': 3268, 'either': 1455, 'surprisingly': 2919, 'solid': 2789, 'here': 1822, 'considered': 1216, 'done': 1404, 'Thanks': 679, 'released': 2560, 'mexican': 2160, 'less': 2041, 'understood': 3113, 'matter': 2131, 'identified': 1882, 'felt': 1612, 'ranks': 2511, 'highly': 1833, 'noir': 2247, 'crime': 1276, 'Belmondo': 106, 'Lino': 439, 'Ventura': 734, 'complex': 1192, 'psychological': 2481, 'portrayals': 2426, 'detailing': 1350, 'loyalty': 2098, 'treachery': 3059, 'hope': 1854, 'tremendous': 3063, 'Up': 727, 'Melville': 474, 'journey': 1979, 'eyes': 1564, 'soul': 2804, 'child': 1130, 'BLACK': 89, 'WATER': 739, 'manages': 2117, 'transcend': 3052, 'limitations': 2059, 'indie': 1919, 'continually': 1227, 'subverting': 2889, 'expectations': 1544, 'emerge': 1466, 'intense': 1945, 'gripping': 1766, 'crocdodile': 1280, 'indeed': 1915, 'Black': 117, 'Water': 751, 'website': 3235, 'believed': 980, 'crocs': 1281, 'swamp': 2925, 'location': 2074, 'fabulous': 1565, 'thoroughly': 2994, 'Christopher': 163, 'Eccleston': 227, 'control': 1237, 'TARDIS': 666, 'continuation': 1228, 'turn': 3079, 'day': 1302, 'disturbing': 1391, 'memories': 2149, 'succeeded': 2890, 'places': 2390, 'forced': 1664, 'Here': 338, 'pi': 2380, 'ed': 1443, 'started': 2839, 'jerky': 1972, 'camerawork': 1067, 'theater': 2974, 'sick': 2739, 'Summary': 661, 'witticisms': 3273, 'weren': 3241, 'witty': 3274, 'Really': 571, 'Even': 243, 'Billy': 116, 'Bob': 119, 'rise': 2606, 'above': 792, 'Camerawork': 145, 'Rating': 568, 'AMAZING': 35, 'finale': 1628, 'possibly': 2431, 'BEST': 88, 'trilogy': 3066, 'Kieslowski': 412, 'ceases': 1094, 'amaze': 858, 'favourite': 1604, 'directors': 1372, 'use': 3154, 'colours': 1170, 'flag': 1643, 'three': 3001, 'shot': 2730, 'Three': 693, 'visually': 3190, 'subtle': 2887, 'connections': 1212, 'awesome': 935, 'mention': 2153, 'huge': 1870, 'SPOILER': 590, 'remaining': 2563, 'survivors': 2922, 'ferry': 1615, 'Valentine': 731, 'judge': 1981, 'old': 2287, 'solidifying': 2790, 'happiness': 1793, 'suffering': 2898, 'dealt': 1306, 'smile': 2780, 'wrap': 3301, 'EVERYONE': 222, 'loves': 2095, 'Work': 776, 'Art': 75, 'literally': 2065, 'vomited': 3198, 'roth': 2619, 'pearls': 2359, 'awarded': 932, 'eloquently': 1460, 'Francis': 276, 'ford': 1666, 'Coppola': 179, '25': 21, 'earlier': 1437, 'unfolds': 3120, 'gradually': 1755, 'leaves': 2035, 'room': 2618, 'develop': 1352, 'wonderful': 3279, 'lies': 2050, 'contrast': 1233, 'directed': 1367, 'Nicola': 504, 'roeg': 2612, 'wih': 3263, 'sublime': 2883, 'translating': 3055, 'year': 3311, 'offensive': 2282, 'intelligence': 1943, 'someone': 2793, 'strives': 2864, 'greatness': 1763, 'poetry': 2411, 'muddled': 2207, 'disparate': 1385, 'reviewer': 2598, 'accurately': 802, 'defined': 1319, 'To': 698, 'intelligent': 1944, 'masterful': 2127, 'sense': 2691, 'pitiful': 2388, 'our': 2309, 'human': 1871, 'nature': 2226, 'tolerate': 3028, 'political': 2418, 'incorrectness': 1912, 'artistic': 902, 'suspension': 2924, 'disbelief': 1377, 'Slavic': 627, 'female': 1613, 'entertaining': 1494, 'outlandish': 2311, 'array': 897, 'memorable': 2148, 'psychotic': 2482, 'lovable': 2091, 'nuts': 2269, 'enjoyment': 1490, 'we': 3231, 'around': 896, 'games': 1709, 'dangerous': 1299, 'sweet': 2927, 'telephone': 2957, 'repair': 2574, 'reactions': 2520, 'bitchy': 995, 'boss': 1026, 'genuine': 1722, 'smart': 2778, 'brilliant': 1041, 'twist': 3084, 'SO': 589, 'shed': 2719, 'tear': 2951, 'am': 856, 'seeing': 2681, 'forget': 1668, 'CLASSIC': 140, 'Which': 764, 'underneath': 3107, 'Malta': 460, 'settings': 2708, 'dry': 1427, 'barren': 957, 'hockey': 1843, 'defensemen': 1318, 'goalies': 1741, 'diving': 1392, 'feet': 1610, 'wide': 3261, 'net': 2237, 'For': 269, 'haven': 1802, 'call': 1061, 'Started': 647, 'particular': 2348, 'relationship': 2555, 'bakery': 949, 'assistant': 912, 'waitress': 3201, 'superficial': 2907, 'stagey': 2830, 'stage': 2829, 'farce': 1591, 'By': 137, 'pyromaniac': 2495, 'waylaid': 3229, 'bored': 1023, 'next': 2241, 'switched': 2928, 'Glad': 304, 'pay': 2357, 'Didn': 206, 'laugh': 2023, 'once': 2291, 'big': 990, 'yawn': 3309, 'educational': 1447, 'Barney': 97, 'super': 2904, 'DE': 189, 'duper': 1433, 'Babie': 92, 'Bop': 122, 'cute': 1289, 'cool': 1244, 'Storm': 654, 'Trooper': 712, 'wonderfully': 3280, 'guy': 1774, 'potted': 2433, 'plants': 2393, 'shameful': 2713, 'television': 2958, 'plus': 2408, 'writers': 3304, 'smack': 2776, 'actresses': 813, 'bonus': 1014, 'taped': 2944, 'episodes': 1499, 'Now': 513, 'exactly': 1524, 'latched': 2018, 'endearing': 1478, 'become': 968, 'special': 2813, 'likes': 2057, 'wholesome': 3258, 'four': 1679, 'hilarious': 1834, 'shows': 2736, 'sibling': 2738, 'bond': 1012, 'each': 1436, 'Much': 489, 'unneeded': 3135, 'controversy': 1238, 'Damian': 193, 'versatile': 3169, 'ways': 3230, 'portraying': 2428, 'different': 1363, 'Characters': 157, 'cutting': 1294, 'pleased': 2401, 'modern': 2176, 'letting': 2045, 'passion': 2352, 'drive': 1424, 'taking': 2937, 'forgetting': 1670, 'Ireland': 373, 'scared': 2650, 'horrified': 1860, 'sympathetic': 2930, 'towards': 3044, 'movements': 2201, 'attempts': 921, 'supposed': 2911, 'light': 2053, 'situation': 2764, 'leave': 2034, 'shelf': 2721, 'Elias': 233, 'Koteas': 415, 'Jack': 382, 'Palance': 537, 'roles': 2614, 'Angelina': 65, 'hot': 1863, 'gets': 1724, 'naked': 2218, 'Drago': 216, 'appears': 887, 'cameo': 1065, 'Sven': 664, 'ole': 2289, 'Thorsen': 691, 'enjoyable': 1488, 'bought': 1029, 'Ebay': 225, 'poler': 2417, 'bear': 963, 'kinda': 1999, 'question': 2498, 'Fort': 272, 'Steele': 648, 'UNfunny': 718, 'top': 3034, 'unrealistic': 3140, 'throughout': 3007, '90': 32, 'utter': 3160, 'looked': 2081, '70000': 27, 'Lucy': 452, 'Bell': 104, 'higher': 1830, 'sink': 2755, 'slackers': 2768, 'excuses': 1537, 'actions': 809, 'God': 306, 'parts': 2350, 'wonder': 3277, 'excerpts': 1531, 'sets': 2706, 'designed': 1343, 'stylized': 2879, 'effective': 1449, 'They': 686, 'exemplars': 1539, 'set': 2705, 'designer': 1344, 'stories': 2856, 'powerful': 2435, 'explorations': 1554, 'After': 48, 'learn': 2032, 'politics': 2420, 'Japanese': 386, 'rendering': 2570, 'America': 57, 'Imperial': 368, 'What': 761, 'makes': 2111, 'values': 3163, 'faultless': 1601, 'photography': 2377, 'composition': 1195, 'underappreciated': 3103, 'Brian': 127, 'Keith': 410, 'bully': 1055, 'Teddy': 677, 'vivid': 3192, 'Though': 692, 'largely': 2015, 'son': 2797, 'member': 2146, 'identify': 1884, 'Sean': 610, 'Connery': 173, 'noble': 2245, 'brigand': 1038, 'Candace': 148, 'Bergen': 109, 'feisty': 1611, 'heroine': 1825, 'Huston': 359, 'wily': 3266, 'Hay': 328, 'Steve': 650, 'Kanaly': 407, 'spiffy': 2819, 'radiant': 2507, 'ruthless': 2628, 'lieutenant': 2051, 'Roosevelt': 583, 'Stick': 652, 'adventure': 824, 'Robert': 581, 'Ryans': 586, 'portrayed': 2427, 'father': 1600, 'schizophrenic': 2656, 'although': 854, 'murdered': 2209, 'affected': 828, 'second': 2678, 'war': 3209, 'Having': 327, 'humour': 1877, 'apt': 892, 'mother': 2193, 'brother': 1048, 'Ryan': 585, 'type': 3088, 'imitation': 1894, 'individual': 1920, 'impressed': 1898, 'Almost': 55, 'Cover': 182, 'Girl': 301, 'fashioned': 1596, 'tuneful': 3078, 'Rita': 579, 'Hayworth': 330, 'pedestal': 2361, 'example': 1526, 'Hollywood': 347, 'exploit': 1553, 'financial': 1630, 'gain': 1705, 'Non': 508, 'linear': 2062, 'narration': 2219, 'thus': 3012, 'flashbacks': 1645, 'articulated': 899, 'Monica': 483, 'Bellucci': 105, 'commentary': 1181, 'undoubtedly': 3116, 'timers': 3018, 'popular': 2424, 'plenty': 2405, 'laughs': 2026, 'feel': 1608, 'northern': 2254, 'positive': 2429, 'community': 1185, 'represents': 2580, 'seriously': 2703, 'created': 1267, 'unique': 3127, 'Vivian': 737, 'Schilling': 602, '95': 33, 'garbage': 1711, 'theatres': 2976, 'Her': 337, 'role': 2613, 'screamy': 2663, 'masculine': 2123, 'casted': 1088, 'ready': 2523, 'European': 242, 'throwback': 3008, 'student': 2870, '1980': 13, 'experiences': 1548, 'abroad': 793, 'interacting': 1948, 'nationalities': 2223, 'circumstances': 1146, 'slightly': 2771, 'fan': 1585, 'Ticker': 695, 'Only': 526, 'buildings': 1053, 'couple': 1254, 'locations': 2075, 'MAYBE': 456, 'hummh': 1874, 'blew': 1002, 'Angel': 62, 'Scamp': 601, 'yelps': 3313, 'hes': 1827, 'funniest': 1699, 'caught': 1092, 'under': 3101, 'curtain': 1288, 'Ive': 381, 'Never': 501, 'Had': 321, 'Feeling': 258, 'Before': 101, 'coming': 1178, 'edition': 1446, '20': 17, 'cover': 1258, 'scamp': 2648, 'lid': 2048, 'cant': 1073, 'explain': 1550, 'romantic': 2617, 'charming': 1115, 'junkyard': 1985, 'dogs': 1399, 'laughed': 2025, 'LOVE': 419, 'comes': 1174, 'chosen': 1140, 'tortured': 3037, 'disgusting': 1382, 'blatant': 1001, 'American': 58, 'propaganda': 2473, 'Americans': 59, 'hatred': 1800, 'clichés': 1154, 'admitted': 821, 'elsewhere': 1462, 'everyone': 1517, 'involved': 1959, 'return': 2593, 'school': 2657, 'pile': 2386, 'round': 2621, 'enter': 1492, 'admins': 819, 'place': 2389, 'Thunderbirds': 694, 'motion': 2194, 'needlessly': 2232, 'repeats': 2577, 'backed': 945, 'continuity': 1230, 'thrown': 3009, 'reason': 2531, 'vehicles': 3166, 'Corn': 180, 'Flakes': 266, 'box': 1030, 'directorial': 1371, 'style': 2878, 'bordered': 1019, 'stupidity': 2877, 'yeah': 3310, 'reviews': 2600, 'star': 2834, 'proud': 2475, 'filmmaker': 1624, 'nor': 2252, 'hide': 1828, 'sand': 2638, 'monumental': 2187, 'EVER': 221, 'player': 2396, 'still': 2849, 'halfway': 1782, 'embarrassed': 1463, 'Howell': 355, 'always': 855, 'nut': 2268, 'bag': 948, 'side': 2740, 'Stephen': 649, 'McHattie': 472, 'Lance': 424, 'Hendrikson': 336, 'raging': 2508, 'cheekbones': 1123, 'professionals': 2467, 'Debbie': 199, 'Rochon': 582, 'contributory': 1235, 'former': 1675, 'chimp': 1136, 'tolerable': 3027, 'SETS': 588, 'oy': 2329, 'vey': 3175, 'scale': 2647, 'simplifying': 2747, 'sake': 2634, 'brevity': 1036, 'problems': 2458, 'fulfilling': 1692, 'Both': 123, 'jobs': 1975, 'amusing': 865, 'convoluted': 1243, 'convince': 1241, 'weird': 3237, 'questioning': 2499, 'glance': 1737, 'hated': 1799, '15': 3, 'Bela': 103, 'Lugosi': 453, 'extraneous': 1560, 'intoning': 1956, 'odd': 2278, 'decidely': 1313, 'wooden': 3282, 'period': 2370, 'Universal': 725, 'Armand': 74, 'Assante': 79, 'cable': 1060, 'company': 1186, 'summary': 2903, 'sounded': 2806, 'tying': 3087, 'loose': 2084, 'ends': 1482, 'score': 2662, 'won': 3276, 'spoilers': 2824, 'Wow': 779, 'frightening': 1687, 'comprehensible': 1196, 'hang': 1789, 'camp': 1068, 'value': 3162, 'expecting': 1546, 'Oscar': 528, 'IQ': 362, 'particularly': 2349, 'mollusk': 2178, 'loosely': 2085, 'insult': 1939, 'public': 2483, 'knew': 2001, 'string': 2863, 'lower': 2097, 'Fox': 273, 'Movie': 487, 'Channel': 156, 'contract': 1232, 'scripts': 2671, 'Victor': 736, 'McLaglen': 473, 'DonLevy': 213, 'unrecognizable': 3141, 'Considering': 176, 'relations': 2554, 'Taylor': 675, 'Stanwyck': 645, 'surprising': 2918, 'President': 556, 'death': 1307, 'row': 2623, 'entirely': 1496, 'unmoving': 3133, 'producer': 2463, 'come': 1171, 'gifted': 1728, 'cheerless': 1125, 'heist': 1814, 'characterisation': 1110, 'lots': 2089, 'underbite': 3104, 'stoic': 2854, 'emoting': 1467, 'Chow': 161, 'Yun': 787, 'Fat': 256, 'Better': 112, 'Tomorrow': 701, 'cheesy': 1127, 'abandoned': 789, 'factory': 1571, 'poorly': 2422, 'executed': 1538, 'flying': 1654, 'judo': 1983, 'rolls': 2616, 'la': 2007, 'Woo': 774, 'squibs': 2827, 'At': 80, 'proceedings': 2459, 'remotely': 2568, 'derivative': 1335, 'mercy': 2154, 'killing': 1996, 'hopeless': 1855, 'overacting': 2316, 'space': 2810, 'uneasy': 3117, 'composed': 1194, 'About': 39, '30': 22, 'footage': 1661, 'elderly': 1457, 'awkwardly': 937, 'babbling': 940, 'overwrought': 2323, 'pseudo': 2480, 'Satanic': 598, 'gibberish': 1727, 'corny': 1247, 'teen': 2954, 'Goth': 308, 'blush': 1006, 'Olde': 521, 'English': 237, 'Latin': 429, 'may': 2133, 'sloppy': 2773, 'Hackneyed': 320, 'Of': 516, 'course': 1255, 'blah': 997, 'balanced': 951, 'perfectly': 2366, 'underacting': 3102, 'FINALLY': 250, 'competent': 1188, 'Jerry': 391, 'Falwell': 254, 'share': 2714, 'starring': 2836, 'Jaclyn': 383, 'Smith': 629, 'god': 1742, '12': 1, 'ago': 837, 'opened': 2296, 'length': 2040, 'rate': 2513, 'Lifetime': 435, 'air': 841, 'knows': 2005, 'store': 2855, 'sells': 2688, 'assaulted': 911, 'strident': 2862, 'cords': 1245, 'blare': 1000, 'warning': 3212, 'sort': 2803, 'pap': 2342, 'screened': 2665, 'afternoon': 831, 'punish': 2488, 'unemployed': 3118, 'loads': 2072, 'understatement': 3112, 'comedy': 1173, 'creates': 1268, 'universe': 3129, 'fascinating': 1594, 'See': 613, 'team': 2950, 'behind': 975, 'continue': 1229, 'forgot': 1671, 'Casting': 154, 'superb': 2905, 'Trond': 711, 'Fausa': 257, 'Aurvåg': 82, 'Bothersome': 124, 'Man': 461, 'doing': 1400, 'humorous': 1876, 'comment': 1180, '2006': 19, 'move': 2199, 'Initially': 370, 'local': 2073, 'sites': 2762, 'filmed': 1623, 'Buffalo': 131, 'intrigued': 1957, 'Later': 428, 'power': 2434, 'entire': 1495, 'applauded': 888, 'conclusion': 1204, 'lilt': 2058, 'heart': 1809, 'race': 2504, 'Duris': 217, 'appearance': 886, 'fine': 1633, 'Cinematography': 164, 'views': 3181, 'Barcelona': 96, 'famed': 1582, 'Gaudi': 293, 'towers': 3045, 'ten': 2961, 'thoughts': 2998, 'dislike': 1383, 'ended': 1479, 'despised': 1347, 'looks': 2083, 'rough': 2620, 'draft': 1412, 'shooting': 2727, 'began': 972, 'finished': 1636, 'completed': 1190, 'Things': 687, 'happen': 1791, 'personalities': 2373, 'change': 1106, 'twists': 3085, 'occur': 2276, 'calls': 1063, 'irritating': 1962, 'indescribably': 1916, 'idiotic': 1886, 'produce': 2461, 'mess': 2157, 'season': 2676, 'contains': 1225, 'cheesiness': 1126, 'unethical': 3119, 'normally': 2253, 'NC': 492, '17': 5, 'Actors': 43, 'Final': 263, 'Word': 775, 'Show': 624, 'zillion': 3322, 'reality': 2527, 'Watching': 750, 'washing': 3217, 'twirling': 3083, 'hurt': 1878, 'Grade': 310, 'Note': 511, 'Is': 377, 'Mother': 485, 'Cast': 153, 'Pull': 557, 'Out': 530, '20th': 20, 'Century': 155, 'ROAD': 565, 'HOUSE': 319, '1948': 9, 'silly': 2745, 'implausible': 1895, 'unmitigated': 3132, 'Full': 284, 'unconvincing': 3100, 'blandly': 999, 'Edward': 230, 'Chodorov': 160, 'produced': 2462, 'Jean': 389, 'Negulesco': 498, 'expect': 1543, 'deal': 1305, 'From': 281, 'Widmark': 767, 'turns': 3081, 'unintentionally': 3124, 'comical': 1177, 'marbles': 2119, 'early': 1438, 'marred': 2120, 'constant': 1221, 'studio': 2872, 'indoor': 1921, 'exteriors': 1559, 'prompted': 2471, 'documentary': 1396, 'serious': 2702, 'dont': 1405, 'start': 2838, 'steve': 2848, 'martin': 2122, 'middle': 2161, 'aged': 835, 'upper': 3150, 'class': 1147, 'uptight': 3152, 'add': 816, 'betty': 986, 'jean': 1971, 'mistakes': 2175, 'racial': 2505, 'jokes': 1978, 'offend': 2281, 'littered': 2066, 'overt': 2322, 'slurs': 2775, 'members': 2147, 'whites': 3254, 'depicted': 1331, 'morons': 2190, 'boobs': 1016, 'card': 1077, 'aside': 905, 'lets': 2044, 'major': 2107, 'flaw': 1647, 'destroy': 1349, 'latifa': 2021, 'wouldnt': 3299, 'STEAMBOAT': 592, 'WILLIE': 743, 'amazingly': 861, 'Mickey': 477, 'Mouse': 486, 'PLANE': 533, 'CRAZY': 141, 'famous': 1584, 'ground': 1768, 'breaking': 1035, 'While': 765, 'yet': 3314, 'hear': 1807, 'tons': 3031, 'granted': 1757, 'crowd': 1283, 'pleaser': 2402, '1928': 7, 'amazed': 859, 'timeless': 3016, 'Turkey': 716, 'Straw': 657, 'imaginative': 1892, 'cruel': 1284, 'Clever': 165, 'among': 863, '80': 29, 'bipolarity': 993, 'thug': 3010, 'killer': 1995, 'Luv': 454, 'diaper': 1359, 'commercial': 1184, 'terribly': 2968, 'receive': 2534, 'awards': 933, 'accolades': 800, 'deserving': 1341, 'original': 2303, 'Body': 120, 'Soul': 636, '1947': 8, 'Garfield': 291, 'Ann': 68, 'revere': 2595, 'Lilli': 437, 'Plmer': 551, 'William': 769, 'Conrad': 175, 'Lee': 430, 'cinematographers': 1144, 'James': 384, 'Wong': 773, 'Howe': 354, 'qualities': 2496, 'shame': 2712, 'Thomerson': 690, 'credit': 1273, '1986': 14, 'version': 3170, 'watchable': 3224, 'Let': 433, 'professor': 2468, 'dumb': 1431, 'established': 1508, 'zombie': 3323, 'students': 2871, 'humans': 1873, 'removing': 2569, 'necklace': 2229, 'containing': 1224, 'meteorite': 2159, 'Director': 207, 'Matthews': 470, 'wrote': 3308, 'weak': 3232, '1995': 15, 'monster': 2185, 'Grim': 314, 'pace': 2330, 'lighting': 2054, 'bland': 998, 'aspects': 909, 'lack': 2008, 'notable': 2257, 'gore': 1748, 'convention': 1239, 'worked': 3286, 'past': 2353, 'AWFUL': 37, 'CG': 138, 'opening': 2297, 'sequence': 2699, 'Microsoft': 478, 'Slideshow': 628, 'explosion': 1555, 'Gas': 292, 'tanks': 2943, 'Okay': 519, 'fair': 1574, 'critic': 1278, 'due': 1428, 'creature': 1271, 'Gotta': 309, 'slimy': 2772, 'drooling': 1425, 'teeth': 2956, 'sum': 2902, 'Breeders': 126, 'cheaply': 1119, 'avoided': 931, 'Ebola': 226, 'virus': 3187, 'recommended': 2539, 'unbearable': 3095, 'comedic': 1172, 'timing': 3020, 'Aside': 78, 'debits': 1309, 'popcorn': 2423, 'hackneyed': 1776, 'borders': 1021, 'Lewis': 434, 'considerable': 1215, 'incendiary': 1907, 'unrestrained': 3144, 'rating': 2516, 'allow': 847, 'sole': 2788, 'bright': 1039, 'spot': 2825, 'recent': 2536, 'Superbad': 663, 'weight': 3236, 'interim': 1952, 'With': 771, 'originality': 2304, 'freshness': 1684, 'offer': 2283, 'evidently': 1520, 'limited': 2060, 'reflected': 2546, 'par': 2344, 'borrowed': 1025, 'balance': 950, 'Filmiing': 262, 'expansive': 1542, 'failed': 1572, 'convey': 1240, 'broad': 1045, 'sweep': 2926, 'landscapes': 2014, 'Generally': 295, 'finally': 1629, 'sign': 2742, 'improvement': 1902, 'expected': 1545, 'asleep': 907, 'Beware': 114, 'trashy': 3058, 'precisely': 2439, 'giving': 1735, 'Being': 102, 'proudly': 2476, 'classical': 1149, 'WB': 740, 'cartoons': 1084, 'Tiny': 696, 'Toons': 705, 'kept': 1990, 'vibe': 3176, 'delivered': 1325, 'underrated': 3108, 'murky': 2211, 'product': 2465, 'related': 2552, 'Easily': 224, 'none': 2249, 'tender': 2962, 'getting': 1725, 'dark': 1300, 'sitcoms': 2760, 'oriented': 2302, 'teenagers': 2955, 'peculiarity': 2360, 'Every': 244, 'deserved': 1339, 'element': 1459, 'excessively': 1532, 'phony': 2375, 'contrived': 1236, 'painful': 2335, 'sit': 2759, 'WRITTEN': 744, 'fifteen': 1619, 'um': 3093, 'Perabo': 543, 'comfortable': 1175, 'excuse': 1536, 'volcano': 3196, 'Los': 446, 'Angeles': 64, 'honest': 1851, 'unbelievable': 3097, 'nonsense': 2251, 'foolish': 1660, 'bother': 1028, 'accents': 797, 'abysmal': 796, 'hypocrisy': 1879, 'vomit': 3197, 'Don': 212, 'rubbish': 2624, 'researched': 2583, 'Pitch': 548, 'longer': 2079, 'surprised': 2916, 'Go': 305, 'Omit': 523, 'VERY': 730, 'instant': 1935, 'catchy': 1091, 'credits': 1274, 'miss': 2173, 'simmering': 2746, 'boiling': 1009, 'warts': 3214, 'study': 2873, 'poet': 2410, 'bohemian': 1008, 'wartime': 3213, 'span': 2811, 'bombardments': 1011, 'London': 442, 'outward': 2314, 'tranquillity': 3051, 'Welsh': 759, 'coastal': 1163, 'retreat': 2592, 'borderlines': 1020, 'friendship': 1686, 'lust': 2099, 'dedication': 1316, 'versus': 3171, 'practical': 2437, 'concerns': 1202, 'jealousy': 1970, 'rivalry': 2607, 'cowardice': 1259, 'egotism': 1453, 'heroism': 1826, 'sacrifice': 2631, 'suggests': 2900, 'brings': 1044, 'focus': 1655, 'underlying': 3106, 'tensions': 2964, 'served': 2704, 'apart': 883, 'inappropriate': 1906, 'smiling': 2781, 'Keira': 409, 'Knightley': 414, 'prone': 2472, 'exquisite': 1557, 'inventive': 1958, 'elegant': 1458, 'angle': 869, 'pointillistic': 2414, 'home': 1849, 'behold': 976, 'continuously': 1231, 'Bertolucci': 110, 'relationships': 2556, 'engaging': 1485, 'basic': 959, 'sidelined': 2741, 'inexplicable': 1926, 'crew': 1275, 'Regardless': 574, 'Avoid': 84, 'costs': 1250, 'Christmas': 162, 'Errol': 240, 'Flynn': 268, 'Custer': 188, 'alongside': 851, 'Olivia': 522, 'De': 197, 'Havilland': 326, 'fantastic': 1588, 'known': 2004, 'dads': 1295, 'grew': 1765, 'until': 3146, 'realised': 2525, 'Jim': 394, 'Connor': 174, 'energetic': 1483, 'George': 296, 'dull': 1430, 'hosting': 1862, 'overs': 2321, 'monotonous': 2184, 'guests': 1771, 'Lovely': 450, 'shenanigans': 2724, 'surrounding': 2920, 'spy': 2826, 'kidnapped': 1992, 'nasty': 2221, 'foreign': 1667, 'random': 2509, 'taxidermists': 2947, 'Stewart': 651, 'hero': 1823, 'rips': 2605, 'climax': 1156, 'embassy': 1465, 'function': 1697, 'brooding': 1047, 'menace': 2151, 'Nevertheless': 502, 'stable': 2828, 'excellently': 1528, 'tops': 3035, 'typical': 3089, 'sci': 2659, 'fi': 1618, 'Excellently': 248, 'Sci': 605, 'producers': 2464, 'Scot': 606, 'Vandiver': 733, 'nonetheless': 2250, 'campy': 1069, 'delight': 1321, 'bendingly': 983, 'scares': 2651, 'medical': 2142, 'terminology': 2965, 'iffy': 1889, 'insulin': 1938, 'dependant': 1328, 'diabetic': 1355, 'revealing': 2594, 'complexity': 1193, 'task': 2945, 'challenges': 1104, 'facing': 1569, 'South': 637, 'Africa': 47, 'outside': 2313, 'attempted': 920, 'Truth': 715, 'Reconciliation': 573, 'process': 2460, 'magnificent': 2104, 'seamlessly': 2675, 'woven': 3300, 'splendid': 2820, 'view': 3178, 'subtitles': 2886, 'aversion': 929, 'therapy': 2984, 'Shakespear': 616, 'Macbeth': 459, 'Jason': 387, 'moved': 2200, 'tears': 2952, 'final': 1627, 'monolog': 2183, 'brief': 1037, 'candle': 1071, 'sphere': 2818, 'moral': 2188, 'decay': 1311, 'forces': 1665, 'Helen': 333, 'Baxendale': 99, 'credible': 1272, 'lady': 2012, 'cheerfull': 1124, 'naughty': 2227, 'deadly': 1303, 'taste': 2946, 'evil': 1521, 'Shakespears': 617, 'lyrics': 2100, 'delightful': 1322, 'adaptation': 815, 'Dr': 214, 'Seuss': 615, 'brilliantly': 1042, 'animated': 874, 'UPA': 719, 'finest': 1634, 'Academy': 40, 'Award': 85, 'Special': 642, 'integral': 1941, 'helping': 1818, 'Bailey': 94, 'crisp': 1277, 'beautifully': 965, 'colored': 1168, 'design': 1342, 'costumes': 1251, 'Eiko': 231, 'Ishioka': 378, 'went': 3239, 'Dracula': 215, 'allowing': 848, '1971': 11, 'format': 1674, 'mini': 2166, 'baaaaaad': 939, 'Unless': 726, 'collect': 1166, 'extant': 1558, 'Austen': 83, 'skip': 2767, 'small': 2777, 'consolations': 1220, 'sisters': 2758, 'Speaking': 641, 'unbearably': 3096, 'kitchy': 2000, 'dropped': 1426, 'ball': 952, 'Raw': 569, 'sublimely': 2884, 'overly': 2320, 'theatrical': 2977, 'plays': 2399, 'terror': 2970, 'lie': 2049, 'escalating': 1503, 'monstrous': 2186, 'consequences': 1213, 'players': 2397, 'mesmerising': 2156, 'Wilkinson': 768, 'broke': 1046, 'judging': 1982, 'fumbling': 1695, 'hankies': 1790, 'hands': 1788, 'faces': 1567, 'males': 2114, 'females': 1614, 'alike': 845, 'Julian': 403, 'Fellowes': 260, 'triumphed': 3069, 'national': 2222, 'treasure': 3060, 'GO': 286, 'AND': 36, 'SEE': 587, 'IT': 364, 'phrase': 2378, 'owed': 2324, 'Kris': 416, 'Kristoffersen': 417, 'difference': 1362, 'documentaries': 1395, 'marriage': 2121, 'errors': 1502, 'user': 3156, 'commented': 1182, 'cars': 1082, 'garage': 1710, 'Joe': 396, 'glasses': 1738, 'facial': 1568, 'hair': 1779, 'configuration': 1207, 'inspiration': 1933, 'overcome': 2318, 'rejection': 2550, 'Punishment': 559, 'Park': 539, 'Shot': 622, 'Southern': 638, 'California': 143, 'desert': 1338, 'using': 3158, 'patent': 2354, 'Watkins': 752, 'Peter': 545, 'accessible': 798, 'wont': 3281, 'Well': 758, 'Just': 405, 'thinking': 2992, 'miserable': 2170, 'hollow': 1848, 'laughable': 2024, 'Angela': 63, 'Bennett': 108, 'computer': 1198, 'expert': 1549, 'pretext': 2451, 'repeating': 2576, 'robotic': 2609, 'moves': 2202, 'results': 2589, 'DELETE': 190, 'begin': 973, 'ass': 910, 'comments': 1183, 'wall': 3204, 'uncalled': 3098, 'fat': 1599, 'geek': 1714, 'bible': 989, 'thumper': 3011, 'heard': 1808, 'except': 1529, 'Cole': 169, 'Pulling': 558, 'plug': 2407, 'Lame': 423, 'describe': 1336, 'equivalent': 1500, 'Dickens': 205, 'Carol': 151, 'sensibility': 2693, 'success': 2892, 'depends': 1330, 'Sydney': 665, 'Greenstreet': 313, 'Yardley': 780, 'attractive': 923, 'eye': 1563, 'pleasing': 2403, 'Im': 366, 'RPG': 566, 'disgrace': 1381, 'respecting': 2585, 'RPGer': 567, 'cuts': 1293, 'audio': 925, 'wrong': 3307, 'youtube': 3321, 'Top': 706, 'Lassie': 427, 'sleep': 2769, 'FOREVER': 251, 'painfully': 2336, 'dreary': 1420, 'waster': 3221, 'becomes': 969, 'forgettable': 1669, 'achievement': 804, 'shell': 2722, 'Seriously': 614, 'wasting': 3222, 'kid': 1991, 'avoid': 930, 'barking': 956, 'transfers': 3053, 'relaxing': 2558, 'late': 2019, 'hence': 1820, 'title': 3022, 'handles': 1787, 'tough': 3043, 'issues': 1966, 'dignity': 1364, 'shocking': 2726, 'spoiler': 2823, 'happy': 1794, 'touches': 3041, 'whenever': 3246, 'memorized': 2150, 'pair': 2339, 'fishnet': 1639, 'stockings': 2853, 'astonishingly': 913, 'ham': 1783, 'fisted': 1640, 'earth': 1439, 'Irons': 375, 'holds': 1846, 'Emily': 235, 'Watson': 753, 'unconditional': 3099, 'prepared': 2446, 'ordeal': 2301, 'takes': 2936, 'hand': 1784, 'progresses': 2469, 'anguish': 872, 'quick': 2500, 'Despite': 203, 'pans': 2341, 'reviewers': 2599, 'Interview': 372, 'Vampire': 732, 'Lestat': 432, 'Stuart': 659, 'Townsend': 708, 'Cruise': 187, 'Aailiyah': 38, 'Akasha': 51, 'compelling': 1187, 'entrance': 1497, 'dance': 1297, 'Rice': 577, 'sensitivities': 2694, 'treatments': 3062, 'details': 1351, 'dysfunction': 1435, 'football': 1662, 'perplexing': 2371, 'skilled': 2766, 'Meredith': 475, 'sentiment': 2695, 'rare': 2512, 'maker': 2109, 'worthy': 3296, 'tale': 2938, 'trap': 3056, 'syrupy': 2931, 'Nine': 506, 'goremeister': 1749, 'Lucio': 451, 'Fulci': 283, 'giallo': 1726, 'sub': 2880, 'genre': 1720, 'Italian': 380, 'thrillers': 3005, '70': 26, 'standout': 2833, 'unpleasant': 3137, 'Technically': 676, 'impressive': 1900, 'Riz': 580, 'Ortolani': 527, 'recurring': 2541, 'unaccompanied': 3094, 'vocal': 3193, 'sounds': 2807, 'distant': 1386, 'hill': 1835, 'wild': 3264, 'stuff': 2874, 'beginning': 974, 'Dustin': 218, 'Hoffman': 345, 'stay': 2842, 'Personally': 544, 'compromise': 1197, 'involving': 1961, 'issue': 1965, 'tired': 3021, 'thick': 2988, 'fast': 1597, 'PS': 535, 'finds': 1632, 'blown': 1004, 'effect': 1448, 'Jennifer': 390, 'Rubin': 584, 'Harris': 324, 'changes': 1107, 'nervous': 2236, 'starlet': 2835, 'strange': 2860, 'events': 1513, 'inside': 1929, 'emotions': 1470, 'situations': 2765, 'coach': 1162, 'Mark': 466, 'Snow': 631, 'Why': 766, 'ultra': 3092, 'result': 2588, 'None': 509, 'exciting': 1534, 'slightest': 2770, 'uniqueness': 3128, 'Foreigner': 271, '1973': 12, 'Stranger': 656, 'duet': 1429, 'astronaut': 914, 'doctor': 1394, 'exchange': 1533, 'considers': 1218, 'Cold': 168, 'War': 746, 'biggest': 991, 'crashed': 1263, 'USSR': 720, 'scary': 2652, 'Scream': 607, 'scare': 2649, 'extraordinary': 1561, 'courtroom': 1257, 'indictment': 1918, 'justice': 1987, 'system': 2932, 'highlights': 1832, 'fundamental': 1698, 'legal': 2038, 'discovering': 1379, 'guilt': 1772, 'innocence': 1927, 'court': 1256, 'understated': 3111, 'routine': 2622, 'based': 958, 'boost': 1018, 'Predictable': 555, 'clear': 1150, 'range': 2510, 'ability': 790, 'pull': 2484, 'She': 619, 'carries': 1080, 'Constantine': 177, 'intensity': 1946, 'understanding': 3110, 'motivations': 2195, 'inspiring': 1934, 'video': 3177, 'ALL': 34, 'stinker': 2850, 'smells': 2779, 'direct': 1366, 'release': 2559, 'Star': 646, 'Trek': 710, 'Frontier': 282, 'includes': 1908, 'Shatner': 618, 'Nimoy': 505, 'washed': 3216, 'tacky': 2933, 'Spock': 644, 'rescue': 2582, 'Kirk': 413, 'jet': 1973, 'pack': 2333, 'falls': 1579, 'mountain': 2196, 'humor': 1875, 'dosen': 1407, 'basically': 960, 'involves': 1960, 'Vulcan': 738, 'stealing': 2844, 'Enterprise': 239, 'Uhura': 722, 'belly': 981, 'distract': 1389, 'male': 2113, 'guards': 1769, 'Editing': 229, 'phenomenal': 2374, 'opinion': 2299, 'subjects': 2882, 'Jay': 388, 'Adams': 45, 'unfortunate': 3122, 'subject': 2881, 'Old': 520, 'Neil': 499, 'Young': 785, 'evokes': 1523, '70s': 28, 'grainy': 1756, 'enhanced': 1486, 'delights': 1323, 'surprises': 2917, 'Achille': 41, 'Philippa': 547, 'sing': 2751, 'Giovanni': 300, 'describes': 1337, 'appreciate': 890, 'layers': 2027, '18th': 6, 'century': 1100, 'Jutland': 406, 'instruments': 1937, 'touch': 3040, 'General': 294, 'Loewenhielm': 441, 'partaking': 2347, 'Cailles': 142, 'en': 1475, 'Sarcophage': 597, 'sample': 2637, 'savor': 2643, 'lasting': 2017, 'impression': 1899, 'generates': 1717, 'austere': 926, 'backdrop': 944, 'wanting': 3207, 'notch': 2258, 'fleshed': 1650, 'Grimes': 315, 'Blake': 118, 'deliver': 1324, 'sharply': 2716, 'scripted': 2669, 'deadpan': 1304, 'tongue': 3030, 'cheek': 1122, 'Angus': 66, 'Scrimm': 608, 'gently': 1721, 'menacing': 2152, 'violin': 3185, 'anatomist': 867, 'Doctor': 210, 'Conclusion': 172, 'entertained': 1493, 'struggle': 2869, 'Evil': 246, 'Dead': 198, 'Phantasm': 546, 'falling': 1578, '40': 23, '1949': 10, 'collective': 1167, 'heads': 1806, 'concerning': 1201, 'kudos': 2006, 'exceptional': 1530, 'easy': 1441, 'modest': 2177, 'Juano': 401, 'Hernandez': 339, 'supporting': 2910, 'murdering': 2210, 'Trumbull': 714, 'LUCY': 420, 'open': 2295, 'reminded': 2567, 'evinced': 1522, 'faithful': 1576, 'Joyce': 400, 'acclaimed': 799, 'novella': 2262, 'Feelings': 259, 'Gabriel': 288, 'discomfort': 1378, 'intangibles': 1940, 'leap': 2031, 'within': 3271, 'viewer': 3179, 'grasp': 1759, 'wondered': 3278, 'shortlist': 2729, 'Lot': 447, 'emperor': 1471, 'spend': 2815, 'childhood': 1131, 'End': 236, 'Days': 196, 'surely': 2914, 'coherent': 1165, 'Air': 50, 'Force': 270, 'obliged': 2270, 'write': 3302, 'creative': 1269, 'confusing': 1211, 'subplots': 2885, 'native': 2224, 'americans': 862, 'eating': 1442, 'brainsucking': 1033, 'further': 1701, 'Call': 144, 'Telly': 678, 'Savalas': 599, 'Boyle': 125, '54': 25, 'sheer': 2720, 'tedium': 2953, 'melodrama': 2145, 'sinking': 2756, 'GOOD': 287, 'LORD': 418, 'WHAT': 742, 'WERE': 741, 'THEY': 669, 'THINKING': 670, 'Lots': 448, 'imagine': 1893, 'decisions': 1315, 'atrocious': 917, 'stinks': 2851, 'Trouble': 713, 'impossible': 1897, 'establish': 1507, 'Worse': 777, 'follows': 1659, 'band': 954, 'latter': 2022, 'Mansonites': 462, 'reporter': 2579, 'anniversary': 876, 'killings': 1997, 'spoil': 2821, 'indication': 1917, 'writer': 3303, 'meld': 2144, 'volatile': 3195, 'temperaments': 2960, 'seamless': 2674, 'union': 3126, 'creativity': 1270, 'powerhouse': 2436, 'timely': 3017, 'fascination': 1595, 'celebrity': 1096, 'distorted': 1388, 'interpretations': 1954, 'fame': 1581, 'forgotten': 1672, 'Kevin': 411, 'Spacey': 640, 'verbal': 3167, 'tsunami': 3077, 'Buddy': 130, 'Ackerman': 42, 'scripting': 2670, 'unmatched': 3131, 'ages': 836, 'younger': 3317, 'references': 2545, 'galley': 1706, 'pm': 2409, '8pm': 31, '15pm': 4, 'forwarded': 1677, 'Either': 232, 'sucks': 2896, 'horrendously': 1857, 'starts': 2840, 'build': 1051, 'Captain': 149, 'Howdy': 353, 'says': 2646, 'semi': 2689, 'truck': 3070, 'Linda': 438, 'Cardellini': 150, 'poised': 2416, 'Dee': 200, 'Snider': 630, 'act': 805, 'villains': 3183, 'damn': 1296, 'pacing': 2332, 'FX': 253, 'suck': 2894, 'tries': 3065, 'sophisticated': 2801, 'miserably': 2171, 'unoriginal': 3136, 'cinematic': 1143, 'captured': 1074, 'celluloid': 1097, 'stayed': 2843, 'supernatural': 2909, 'Season': 611, 'Five': 265, 'consistent': 1219, 'thread': 3000, 'holding': 1845, 'Leni': 431, 'Parker': 540, 'Anita': 67, 'LaSelva': 422, 'Taelons': 673, 'quiet': 2502, 'idealogical': 1881, 'Horror': 350, 'mainly': 2106, 'centers': 1098, 'atmosphere': 916, 'puppets': 2489, 'Puppet': 560, 'Master': 468, 'flicks': 1652, 'explains': 1551, 'sinister': 2754, 'origins': 2305, 'previous': 2453, 'insomniacs': 1932, 'heartwarming': 1811, 'chasing': 1117, 'dreams': 1419, 'Nurse': 514, 'Betty': 113, 'unpredictability': 3138, 'LaBute': 421, 'uses': 3157, 'brutal': 1049, 'violence': 3184, 'seperate': 2696, 'Otherwise': 529, 'sorry': 2802, 'secondary': 2679, 'incomprehensible': 1910, 'relation': 2553, 'primary': 2455, 'mystifying': 2217, 'Hated': 325, 'Speed': 643, 'shelves': 2723, 'doubt': 1408, 'warn': 3211, 'DO': 191, 'NOT': 496, 'RENT': 564, 'THIS': 671, 'MOVIE': 457, 'dumbest': 1432, 'HBO': 317, 'realize': 2528, 'Hopefully': 348, 'Cox': 183, 'feature': 1606, 'win': 3267, 'agree': 838, 'Jessica': 392, 'dimensional': 1365, 'guys': 1775, 'elaborately': 1456, 'aesthetically': 827, 'sculpture': 2672, 'soap': 2784, 'operas': 2298, 'Funny': 285, 'hip': 1839, 'Pray': 554, 'Hype': 360, 'charismatic': 1113, 'Paolo': 538, 'Sorrentino': 635, 'loneliness': 2077, 'Tony': 703, 'built': 1054, 'unforgettable': 3121, 'Titta': 697, 'Di': 204, 'Girolamo': 302, 'vision': 3188, 'Emilio': 234, 'Estevez': 241, 'debut': 1310, 'interplay': 1953, 'development': 1353, 'suggest': 2899, 'natural': 2225, 'Martin': 467, 'Wall': 745, 'Street': 658, 'Charlie': 159, 'Kathy': 408, 'Bates': 98, 'desperation': 1346, 'escapism': 1504, 'variation': 3164, 'Play': 550, 'Fields': 261, 'Lord': 445, 'readers': 2521, 'Miyazaki': 482, 'worthwhile': 3295, 'condescends': 1205, 'hearts': 1810, 'arts': 903, 'daughters': 1301, 'paint': 2337, 'photograph': 2376, 'poignant': 2412, 'People': 542, 'realized': 2529, 'closed': 1158, 'brilliance': 1040, 'depicts': 1332, 'alert': 844, 'decipher': 1314, 'meanings': 2140, 'Brilliance': 128, 'Matrix': 469, 'sequels': 2698, 'mindblowing': 2165, 'Think': 688, 'dream': 1418, 'Simply': 625, 'Rickman': 578, 'Stowe': 655, 'hilt': 1836, 'childrens': 1133, 'subversive': 2888, 'tract': 3047, 'gloriously': 1739, 'fairly': 1575, 'accurate': 801, 'raver': 2518, 'idyllic': 1887, 'downs': 1410, 'Groove': 316, 'antithesis': 879, 'Human': 358, 'Traffic': 709, 'Crowe': 186, 'picked': 2381, 'speed': 2814, 'government': 1753, 'scientist': 2661, 'argued': 895, 'humanity': 1872, 'reasons': 2533, 'gadget': 1704, 'friends': 1685, 'Dwight': 219, 'Schultz': 604, 'sincere': 2750, 'Their': 682, 'critical': 1279, 'Gorman': 307, 'Bechard': 100, 'homework': 1850, 'appropriate': 891, 'captures': 1075, 'essence': 1506, 'Each': 223, 'track': 3046, 'commands': 1179, 'contributing': 1234, 'threshold': 3002, 'Hayao': 329, 'latest': 2020, 'eighth': 1454, 'Studio': 660, 'Ghibili': 299, 'Gake': 289, 'Ue': 721, 'Ponyo': 553, 'Cliff': 166, 'Sea': 609, 'animation': 875, 'dominated': 1402, 'Disney': 208, 'Pixar': 549, 'CGI': 139, 'refreshing': 2547, 'comforting': 1176, 'relying': 2562, 'traditional': 3048, 'drawn': 1417, 'enchanting': 1476, 'Enough': 238, 'remarkable': 2565, 'crayon': 1264, 'pencil': 2362, 'drawings': 1416, 'colorful': 1169, 'fanciful': 1586, 'drift': 1422, 'wants': 3208, 'surf': 2915, 'wave': 3227, '1998': 16, 'Deep': 201, 'Impact': 367, 'Armageddon': 73, 'everywhere': 1519, 'choked': 1139, 'worthless': 3294, 'yourself': 3319, 'vessel': 3173, 'taken': 2935, 'mighty': 2163, 'frost': 1690, 'added': 817, 'bonuses': 1015, 'Instead': 371, 'fest': 1616, 'spoiled': 2822, 'brat': 1034, 'babysitting': 942, 'Sundays': 662, 'March': 463, '2005': 18, 'Judith': 402, 'Light': 436, 'favorite': 1603, 'sad': 2632, 'cutie': 1291, 'Recommend': 572, 'confidence': 1206, 'riot': 2604, 'Hugo': 357, 'Weaving': 756, 'sex': 2710, 'obsessed': 2271, 'gay': 1713, 'estate': 1509, 'salesman': 2635, 'clients': 1155, 'houses': 1867, 'trysts': 3076, 'flaming': 1644, 'Darren': 194, 'Hollander': 346, 'Anyway': 72, 'flowed': 1653, 'smoothly': 2782, 'bonding': 1013, 'hoot': 1853, 'cat': 1090, 'mouse': 2197, 'Fans': 255, 'heaven': 1812, 'Lange': 426, 'faster': 1598, 'Jessice': 393, 'clothes': 1159, 'virtue': 3186, 'regrettable': 2549, 'Exceptionally': 249} \n",
            "\n"
          ]
        },
        {
          "output_type": "execute_result",
          "data": {
            "text/plain": [
              "array([[0, 0, 0, ..., 0, 0, 0],\n",
              "       [0, 0, 0, ..., 0, 0, 0],\n",
              "       [0, 0, 0, ..., 0, 0, 0],\n",
              "       ...,\n",
              "       [0, 0, 0, ..., 0, 0, 0],\n",
              "       [0, 0, 0, ..., 0, 0, 0],\n",
              "       [0, 0, 0, ..., 0, 0, 0]])"
            ]
          },
          "metadata": {},
          "execution_count": 6
        }
      ]
    },
    {
      "cell_type": "code",
      "metadata": {
        "id": "UqZiYcLsOKiz"
      },
      "source": [
        "sentences = df['sentence'].values\n",
        "y = df['label'].values\n",
        "\n",
        "sentences_train, sentences_test, y_train, y_test = train_test_split(sentences, y, test_size=0.25, random_state=1000)\n",
        "vectorizer = CountVectorizer()\n",
        "vectorizer.fit(sentences_train)\n",
        "\n",
        "x_train = vectorizer.transform(sentences_train)\n",
        "x_test = vectorizer.transform(sentences_test)\n"
      ],
      "execution_count": 8,
      "outputs": []
    },
    {
      "cell_type": "code",
      "metadata": {
        "colab": {
          "base_uri": "https://localhost:8080/"
        },
        "id": "KTfowPOzQEne",
        "outputId": "0042dd9f-6618-4dce-ba57-f60ef7b016df"
      },
      "source": [
        "classifier = LogisticRegression()\n",
        "classifier.fit(x_train, y_train)\n",
        "score = classifier.score(x_test, y_test)\n",
        "\n",
        "print(colored('Model performance', 'green'))\n",
        "print('Accuracy:', score)"
      ],
      "execution_count": 9,
      "outputs": [
        {
          "output_type": "stream",
          "name": "stdout",
          "text": [
            "\u001b[32mModel performance\u001b[0m\n",
            "Accuracy: 0.7486631016042781\n"
          ]
        }
      ]
    },
    {
      "cell_type": "markdown",
      "metadata": {
        "id": "uciApKaojp5N"
      },
      "source": [
        "### in order to increase above accuracy I have rewritten by cleaning and applying normalization"
      ]
    },
    {
      "cell_type": "markdown",
      "metadata": {
        "id": "VfleyzBQ5yHi"
      },
      "source": [
        "## Remove all punctuations from the text"
      ]
    },
    {
      "cell_type": "code",
      "metadata": {
        "id": "6Te4Roly52pq"
      },
      "source": [
        "import string\n",
        "def remove_punctuation(text):\n",
        "    return (\"\".join([char for char in text if char not in string.punctuation]))"
      ],
      "execution_count": 30,
      "outputs": []
    },
    {
      "cell_type": "code",
      "metadata": {
        "colab": {
          "base_uri": "https://localhost:8080/",
          "height": 206
        },
        "id": "cei9Y_jO58gi",
        "outputId": "70bae85d-4e44-4092-dc35-3e5be1fe5885"
      },
      "source": [
        "sentences = []\n",
        "for sentence in df['sentence']:\n",
        "  sentences.append(remove_punctuation(sentence))\n",
        "df['sentence'] = sentences\n",
        "df.head()"
      ],
      "execution_count": 35,
      "outputs": [
        {
          "output_type": "execute_result",
          "data": {
            "text/html": [
              "<div>\n",
              "<style scoped>\n",
              "    .dataframe tbody tr th:only-of-type {\n",
              "        vertical-align: middle;\n",
              "    }\n",
              "\n",
              "    .dataframe tbody tr th {\n",
              "        vertical-align: top;\n",
              "    }\n",
              "\n",
              "    .dataframe thead th {\n",
              "        text-align: right;\n",
              "    }\n",
              "</style>\n",
              "<table border=\"1\" class=\"dataframe\">\n",
              "  <thead>\n",
              "    <tr style=\"text-align: right;\">\n",
              "      <th></th>\n",
              "      <th>sentence</th>\n",
              "      <th>label</th>\n",
              "      <th>tokens</th>\n",
              "    </tr>\n",
              "  </thead>\n",
              "  <tbody>\n",
              "    <tr>\n",
              "      <th>0</th>\n",
              "      <td>A very very very slowmoving aimless movie abou...</td>\n",
              "      <td>0</td>\n",
              "      <td>[A, very,, very,, very, slow-moving,, aimless,...</td>\n",
              "    </tr>\n",
              "    <tr>\n",
              "      <th>1</th>\n",
              "      <td>Not sure who was more lost  the flat character...</td>\n",
              "      <td>0</td>\n",
              "      <td>[Not, sure, who, was, more, lost, -, the, flat...</td>\n",
              "    </tr>\n",
              "    <tr>\n",
              "      <th>2</th>\n",
              "      <td>Attempting artiness with black  white and clev...</td>\n",
              "      <td>0</td>\n",
              "      <td>[Attempting, artiness, with, black, &amp;, white, ...</td>\n",
              "    </tr>\n",
              "    <tr>\n",
              "      <th>3</th>\n",
              "      <td>Very little music or anything to speak of</td>\n",
              "      <td>0</td>\n",
              "      <td>[Very, little, music, or, anything, to, speak,...</td>\n",
              "    </tr>\n",
              "    <tr>\n",
              "      <th>4</th>\n",
              "      <td>The best scene in the movie was when Gerardo i...</td>\n",
              "      <td>1</td>\n",
              "      <td>[The, best, scene, in, the, movie, was, when, ...</td>\n",
              "    </tr>\n",
              "  </tbody>\n",
              "</table>\n",
              "</div>"
            ],
            "text/plain": [
              "                                            sentence  ...                                             tokens\n",
              "0  A very very very slowmoving aimless movie abou...  ...  [A, very,, very,, very, slow-moving,, aimless,...\n",
              "1  Not sure who was more lost  the flat character...  ...  [Not, sure, who, was, more, lost, -, the, flat...\n",
              "2  Attempting artiness with black  white and clev...  ...  [Attempting, artiness, with, black, &, white, ...\n",
              "3        Very little music or anything to speak of    ...  [Very, little, music, or, anything, to, speak,...\n",
              "4  The best scene in the movie was when Gerardo i...  ...  [The, best, scene, in, the, movie, was, when, ...\n",
              "\n",
              "[5 rows x 3 columns]"
            ]
          },
          "metadata": {},
          "execution_count": 35
        }
      ]
    },
    {
      "cell_type": "markdown",
      "metadata": {
        "id": "H2_M5XLP3xEi"
      },
      "source": [
        "## Tokenize sentence to separate words in to array"
      ]
    },
    {
      "cell_type": "code",
      "metadata": {
        "id": "p5dycsH-32-j"
      },
      "source": [
        "import nltk\n",
        "def tokenize(text):\n",
        "    tokenizer = nltk.tokenize.WhitespaceTokenizer()\n",
        "    return tokenizer.tokenize(text)"
      ],
      "execution_count": 36,
      "outputs": []
    },
    {
      "cell_type": "code",
      "metadata": {
        "colab": {
          "base_uri": "https://localhost:8080/",
          "height": 206
        },
        "id": "qqT6Pd8_3up0",
        "outputId": "39e99942-1c0b-495d-9481-2eb10736e0ae"
      },
      "source": [
        "df['tokens'] = df['sentence'].apply(lambda sentence : tokenize(sentence))\n",
        "df.head()"
      ],
      "execution_count": 37,
      "outputs": [
        {
          "output_type": "execute_result",
          "data": {
            "text/html": [
              "<div>\n",
              "<style scoped>\n",
              "    .dataframe tbody tr th:only-of-type {\n",
              "        vertical-align: middle;\n",
              "    }\n",
              "\n",
              "    .dataframe tbody tr th {\n",
              "        vertical-align: top;\n",
              "    }\n",
              "\n",
              "    .dataframe thead th {\n",
              "        text-align: right;\n",
              "    }\n",
              "</style>\n",
              "<table border=\"1\" class=\"dataframe\">\n",
              "  <thead>\n",
              "    <tr style=\"text-align: right;\">\n",
              "      <th></th>\n",
              "      <th>sentence</th>\n",
              "      <th>label</th>\n",
              "      <th>tokens</th>\n",
              "    </tr>\n",
              "  </thead>\n",
              "  <tbody>\n",
              "    <tr>\n",
              "      <th>0</th>\n",
              "      <td>A very very very slowmoving aimless movie abou...</td>\n",
              "      <td>0</td>\n",
              "      <td>[A, very, very, very, slowmoving, aimless, mov...</td>\n",
              "    </tr>\n",
              "    <tr>\n",
              "      <th>1</th>\n",
              "      <td>Not sure who was more lost  the flat character...</td>\n",
              "      <td>0</td>\n",
              "      <td>[Not, sure, who, was, more, lost, the, flat, c...</td>\n",
              "    </tr>\n",
              "    <tr>\n",
              "      <th>2</th>\n",
              "      <td>Attempting artiness with black  white and clev...</td>\n",
              "      <td>0</td>\n",
              "      <td>[Attempting, artiness, with, black, white, and...</td>\n",
              "    </tr>\n",
              "    <tr>\n",
              "      <th>3</th>\n",
              "      <td>Very little music or anything to speak of</td>\n",
              "      <td>0</td>\n",
              "      <td>[Very, little, music, or, anything, to, speak,...</td>\n",
              "    </tr>\n",
              "    <tr>\n",
              "      <th>4</th>\n",
              "      <td>The best scene in the movie was when Gerardo i...</td>\n",
              "      <td>1</td>\n",
              "      <td>[The, best, scene, in, the, movie, was, when, ...</td>\n",
              "    </tr>\n",
              "  </tbody>\n",
              "</table>\n",
              "</div>"
            ],
            "text/plain": [
              "                                            sentence  ...                                             tokens\n",
              "0  A very very very slowmoving aimless movie abou...  ...  [A, very, very, very, slowmoving, aimless, mov...\n",
              "1  Not sure who was more lost  the flat character...  ...  [Not, sure, who, was, more, lost, the, flat, c...\n",
              "2  Attempting artiness with black  white and clev...  ...  [Attempting, artiness, with, black, white, and...\n",
              "3        Very little music or anything to speak of    ...  [Very, little, music, or, anything, to, speak,...\n",
              "4  The best scene in the movie was when Gerardo i...  ...  [The, best, scene, in, the, movie, was, when, ...\n",
              "\n",
              "[5 rows x 3 columns]"
            ]
          },
          "metadata": {},
          "execution_count": 37
        }
      ]
    },
    {
      "cell_type": "markdown",
      "metadata": {
        "id": "zgmUp6F193LT"
      },
      "source": [
        "## Removing n-grams"
      ]
    },
    {
      "cell_type": "code",
      "metadata": {
        "id": "AJtFWaVd910C"
      },
      "source": [
        "# Remove tokens of length less than 3\n",
        "def remove_stopwords(text):\n",
        "    return [x for x in text if len(x) > 3 ]"
      ],
      "execution_count": 43,
      "outputs": []
    },
    {
      "cell_type": "code",
      "metadata": {
        "colab": {
          "base_uri": "https://localhost:8080/",
          "height": 206
        },
        "id": "vhHL-GF0-HS5",
        "outputId": "16ae2b78-3ae9-4267-e314-fda594fa340c"
      },
      "source": [
        "df['tokens'] = df['tokens'].apply(lambda x : remove_stopwords(x))\n",
        "df.head()"
      ],
      "execution_count": 47,
      "outputs": [
        {
          "output_type": "execute_result",
          "data": {
            "text/html": [
              "<div>\n",
              "<style scoped>\n",
              "    .dataframe tbody tr th:only-of-type {\n",
              "        vertical-align: middle;\n",
              "    }\n",
              "\n",
              "    .dataframe tbody tr th {\n",
              "        vertical-align: top;\n",
              "    }\n",
              "\n",
              "    .dataframe thead th {\n",
              "        text-align: right;\n",
              "    }\n",
              "</style>\n",
              "<table border=\"1\" class=\"dataframe\">\n",
              "  <thead>\n",
              "    <tr style=\"text-align: right;\">\n",
              "      <th></th>\n",
              "      <th>sentence</th>\n",
              "      <th>label</th>\n",
              "      <th>tokens</th>\n",
              "    </tr>\n",
              "  </thead>\n",
              "  <tbody>\n",
              "    <tr>\n",
              "      <th>0</th>\n",
              "      <td>A very very very slowmoving aimless movie abou...</td>\n",
              "      <td>0</td>\n",
              "      <td>[very, very, very, slowmoving, aimless, movie,...</td>\n",
              "    </tr>\n",
              "    <tr>\n",
              "      <th>1</th>\n",
              "      <td>Not sure who was more lost  the flat character...</td>\n",
              "      <td>0</td>\n",
              "      <td>[sure, more, lost, flat, characters, audience,...</td>\n",
              "    </tr>\n",
              "    <tr>\n",
              "      <th>2</th>\n",
              "      <td>Attempting artiness with black  white and clev...</td>\n",
              "      <td>0</td>\n",
              "      <td>[Attempting, artiness, with, black, white, cle...</td>\n",
              "    </tr>\n",
              "    <tr>\n",
              "      <th>3</th>\n",
              "      <td>Very little music or anything to speak of</td>\n",
              "      <td>0</td>\n",
              "      <td>[Very, little, music, anything, speak]</td>\n",
              "    </tr>\n",
              "    <tr>\n",
              "      <th>4</th>\n",
              "      <td>The best scene in the movie was when Gerardo i...</td>\n",
              "      <td>1</td>\n",
              "      <td>[best, scene, movie, when, Gerardo, trying, fi...</td>\n",
              "    </tr>\n",
              "  </tbody>\n",
              "</table>\n",
              "</div>"
            ],
            "text/plain": [
              "                                            sentence  ...                                             tokens\n",
              "0  A very very very slowmoving aimless movie abou...  ...  [very, very, very, slowmoving, aimless, movie,...\n",
              "1  Not sure who was more lost  the flat character...  ...  [sure, more, lost, flat, characters, audience,...\n",
              "2  Attempting artiness with black  white and clev...  ...  [Attempting, artiness, with, black, white, cle...\n",
              "3        Very little music or anything to speak of    ...             [Very, little, music, anything, speak]\n",
              "4  The best scene in the movie was when Gerardo i...  ...  [best, scene, movie, when, Gerardo, trying, fi...\n",
              "\n",
              "[5 rows x 3 columns]"
            ]
          },
          "metadata": {},
          "execution_count": 47
        }
      ]
    },
    {
      "cell_type": "markdown",
      "metadata": {
        "id": "l80w-il9j-PN"
      },
      "source": [
        "## Stemming"
      ]
    },
    {
      "cell_type": "code",
      "metadata": {
        "colab": {
          "base_uri": "https://localhost:8080/",
          "height": 424
        },
        "id": "Rsmb_9pikAHk",
        "outputId": "c05a8d90-5e68-467e-deee-d1596082a0c6"
      },
      "source": [
        "import nltk\n",
        "import pandas as pd\n",
        "from nltk.stem import PorterStemmer\n",
        "\n",
        "porter_stemmer=PorterStemmer()\n",
        "stemmed_texts=[]\n",
        "\n",
        "for token_arr in df['tokens']:\n",
        "  stemmed_texts.append([porter_stemmer.stem(word=word) for word in token_arr])\n",
        "\n",
        "stemdf= pd.DataFrame({'original_sentence': sentences, 'stemmed_sentence': stemmed_texts})\n",
        "stemdf"
      ],
      "execution_count": 48,
      "outputs": [
        {
          "output_type": "execute_result",
          "data": {
            "text/html": [
              "<div>\n",
              "<style scoped>\n",
              "    .dataframe tbody tr th:only-of-type {\n",
              "        vertical-align: middle;\n",
              "    }\n",
              "\n",
              "    .dataframe tbody tr th {\n",
              "        vertical-align: top;\n",
              "    }\n",
              "\n",
              "    .dataframe thead th {\n",
              "        text-align: right;\n",
              "    }\n",
              "</style>\n",
              "<table border=\"1\" class=\"dataframe\">\n",
              "  <thead>\n",
              "    <tr style=\"text-align: right;\">\n",
              "      <th></th>\n",
              "      <th>original_sentence</th>\n",
              "      <th>stemmed_sentence</th>\n",
              "    </tr>\n",
              "  </thead>\n",
              "  <tbody>\n",
              "    <tr>\n",
              "      <th>0</th>\n",
              "      <td>A very very very slowmoving aimless movie abou...</td>\n",
              "      <td>[veri, veri, veri, slowmov, aimless, movi, abo...</td>\n",
              "    </tr>\n",
              "    <tr>\n",
              "      <th>1</th>\n",
              "      <td>Not sure who was more lost  the flat character...</td>\n",
              "      <td>[sure, more, lost, flat, charact, audienc, nea...</td>\n",
              "    </tr>\n",
              "    <tr>\n",
              "      <th>2</th>\n",
              "      <td>Attempting artiness with black  white and clev...</td>\n",
              "      <td>[attempt, arti, with, black, white, clever, ca...</td>\n",
              "    </tr>\n",
              "    <tr>\n",
              "      <th>3</th>\n",
              "      <td>Very little music or anything to speak of</td>\n",
              "      <td>[veri, littl, music, anyth, speak]</td>\n",
              "    </tr>\n",
              "    <tr>\n",
              "      <th>4</th>\n",
              "      <td>The best scene in the movie was when Gerardo i...</td>\n",
              "      <td>[best, scene, movi, when, gerardo, tri, find, ...</td>\n",
              "    </tr>\n",
              "    <tr>\n",
              "      <th>...</th>\n",
              "      <td>...</td>\n",
              "      <td>...</td>\n",
              "    </tr>\n",
              "    <tr>\n",
              "      <th>743</th>\n",
              "      <td>I just got bored watching Jessice Lange take h...</td>\n",
              "      <td>[just, bore, watch, jessic, lang, take, cloth]</td>\n",
              "    </tr>\n",
              "    <tr>\n",
              "      <th>744</th>\n",
              "      <td>Unfortunately any virtue in this films product...</td>\n",
              "      <td>[unfortun, virtu, thi, film, product, work, lo...</td>\n",
              "    </tr>\n",
              "    <tr>\n",
              "      <th>745</th>\n",
              "      <td>In a word it is embarrassing</td>\n",
              "      <td>[word, embarrass]</td>\n",
              "    </tr>\n",
              "    <tr>\n",
              "      <th>746</th>\n",
              "      <td>Exceptionally bad</td>\n",
              "      <td>[except]</td>\n",
              "    </tr>\n",
              "    <tr>\n",
              "      <th>747</th>\n",
              "      <td>All in all its an insult to ones intelligence ...</td>\n",
              "      <td>[insult, one, intellig, huge, wast, money]</td>\n",
              "    </tr>\n",
              "  </tbody>\n",
              "</table>\n",
              "<p>748 rows × 2 columns</p>\n",
              "</div>"
            ],
            "text/plain": [
              "                                     original_sentence                                   stemmed_sentence\n",
              "0    A very very very slowmoving aimless movie abou...  [veri, veri, veri, slowmov, aimless, movi, abo...\n",
              "1    Not sure who was more lost  the flat character...  [sure, more, lost, flat, charact, audienc, nea...\n",
              "2    Attempting artiness with black  white and clev...  [attempt, arti, with, black, white, clever, ca...\n",
              "3          Very little music or anything to speak of                   [veri, littl, music, anyth, speak]\n",
              "4    The best scene in the movie was when Gerardo i...  [best, scene, movi, when, gerardo, tri, find, ...\n",
              "..                                                 ...                                                ...\n",
              "743  I just got bored watching Jessice Lange take h...     [just, bore, watch, jessic, lang, take, cloth]\n",
              "744  Unfortunately any virtue in this films product...  [unfortun, virtu, thi, film, product, work, lo...\n",
              "745                     In a word it is embarrassing                                    [word, embarrass]\n",
              "746                                Exceptionally bad                                             [except]\n",
              "747  All in all its an insult to ones intelligence ...         [insult, one, intellig, huge, wast, money]\n",
              "\n",
              "[748 rows x 2 columns]"
            ]
          },
          "metadata": {},
          "execution_count": 48
        }
      ]
    },
    {
      "cell_type": "markdown",
      "metadata": {
        "id": "yk_MNuYjuclV"
      },
      "source": [
        "## Lemmatization"
      ]
    },
    {
      "cell_type": "code",
      "metadata": {
        "colab": {
          "base_uri": "https://localhost:8080/",
          "height": 460
        },
        "id": "MxBOljw3ugRi",
        "outputId": "f9ecb762-546c-4b4d-93a5-1a61ffe4236d"
      },
      "source": [
        "nltk.download('wordnet')\n",
        "lemmatiser = nltk.stem.WordNetLemmatizer()\n",
        "stemmed_texts=[]\n",
        "\n",
        "for token_arr in stemdf['stemmed_sentence']:\n",
        "  stemmed_texts.append([lemmatiser.lemmatize(word=word) for word in token_arr])\n",
        "\n",
        "stemdf= pd.DataFrame({'original_sentence': sentences, 'stemmed_sentence': stemmed_texts})\n",
        "stemdf"
      ],
      "execution_count": 53,
      "outputs": [
        {
          "output_type": "stream",
          "name": "stdout",
          "text": [
            "[nltk_data] Downloading package wordnet to /root/nltk_data...\n",
            "[nltk_data]   Package wordnet is already up-to-date!\n"
          ]
        },
        {
          "output_type": "execute_result",
          "data": {
            "text/html": [
              "<div>\n",
              "<style scoped>\n",
              "    .dataframe tbody tr th:only-of-type {\n",
              "        vertical-align: middle;\n",
              "    }\n",
              "\n",
              "    .dataframe tbody tr th {\n",
              "        vertical-align: top;\n",
              "    }\n",
              "\n",
              "    .dataframe thead th {\n",
              "        text-align: right;\n",
              "    }\n",
              "</style>\n",
              "<table border=\"1\" class=\"dataframe\">\n",
              "  <thead>\n",
              "    <tr style=\"text-align: right;\">\n",
              "      <th></th>\n",
              "      <th>original_sentence</th>\n",
              "      <th>stemmed_sentence</th>\n",
              "    </tr>\n",
              "  </thead>\n",
              "  <tbody>\n",
              "    <tr>\n",
              "      <th>0</th>\n",
              "      <td>A very very very slowmoving aimless movie abou...</td>\n",
              "      <td>[very, very, very, slowmoving, aimless, movie,...</td>\n",
              "    </tr>\n",
              "    <tr>\n",
              "      <th>1</th>\n",
              "      <td>Not sure who was more lost  the flat character...</td>\n",
              "      <td>[sure, more, lost, flat, character, audience, ...</td>\n",
              "    </tr>\n",
              "    <tr>\n",
              "      <th>2</th>\n",
              "      <td>Attempting artiness with black  white and clev...</td>\n",
              "      <td>[Attempting, artiness, with, black, white, cle...</td>\n",
              "    </tr>\n",
              "    <tr>\n",
              "      <th>3</th>\n",
              "      <td>Very little music or anything to speak of</td>\n",
              "      <td>[Very, little, music, anything, speak]</td>\n",
              "    </tr>\n",
              "    <tr>\n",
              "      <th>4</th>\n",
              "      <td>The best scene in the movie was when Gerardo i...</td>\n",
              "      <td>[best, scene, movie, when, Gerardo, trying, fi...</td>\n",
              "    </tr>\n",
              "    <tr>\n",
              "      <th>...</th>\n",
              "      <td>...</td>\n",
              "      <td>...</td>\n",
              "    </tr>\n",
              "    <tr>\n",
              "      <th>743</th>\n",
              "      <td>I just got bored watching Jessice Lange take h...</td>\n",
              "      <td>[just, bored, watching, Jessice, Lange, take, ...</td>\n",
              "    </tr>\n",
              "    <tr>\n",
              "      <th>744</th>\n",
              "      <td>Unfortunately any virtue in this films product...</td>\n",
              "      <td>[Unfortunately, virtue, this, film, production...</td>\n",
              "    </tr>\n",
              "    <tr>\n",
              "      <th>745</th>\n",
              "      <td>In a word it is embarrassing</td>\n",
              "      <td>[word, embarrassing]</td>\n",
              "    </tr>\n",
              "    <tr>\n",
              "      <th>746</th>\n",
              "      <td>Exceptionally bad</td>\n",
              "      <td>[Exceptionally]</td>\n",
              "    </tr>\n",
              "    <tr>\n",
              "      <th>747</th>\n",
              "      <td>All in all its an insult to ones intelligence ...</td>\n",
              "      <td>[insult, one, intelligence, huge, waste, money]</td>\n",
              "    </tr>\n",
              "  </tbody>\n",
              "</table>\n",
              "<p>748 rows × 2 columns</p>\n",
              "</div>"
            ],
            "text/plain": [
              "                                     original_sentence                                   stemmed_sentence\n",
              "0    A very very very slowmoving aimless movie abou...  [very, very, very, slowmoving, aimless, movie,...\n",
              "1    Not sure who was more lost  the flat character...  [sure, more, lost, flat, character, audience, ...\n",
              "2    Attempting artiness with black  white and clev...  [Attempting, artiness, with, black, white, cle...\n",
              "3          Very little music or anything to speak of               [Very, little, music, anything, speak]\n",
              "4    The best scene in the movie was when Gerardo i...  [best, scene, movie, when, Gerardo, trying, fi...\n",
              "..                                                 ...                                                ...\n",
              "743  I just got bored watching Jessice Lange take h...  [just, bored, watching, Jessice, Lange, take, ...\n",
              "744  Unfortunately any virtue in this films product...  [Unfortunately, virtue, this, film, production...\n",
              "745                     In a word it is embarrassing                                 [word, embarrassing]\n",
              "746                                Exceptionally bad                                      [Exceptionally]\n",
              "747  All in all its an insult to ones intelligence ...    [insult, one, intelligence, huge, waste, money]\n",
              "\n",
              "[748 rows x 2 columns]"
            ]
          },
          "metadata": {},
          "execution_count": 53
        }
      ]
    },
    {
      "cell_type": "markdown",
      "metadata": {
        "id": "ta0LB4qfBApz"
      },
      "source": [
        "## Generate sentence after preprocessing"
      ]
    },
    {
      "cell_type": "code",
      "metadata": {
        "id": "VTcAtNrTBFmw"
      },
      "source": [
        "def combine_sentences(tokens):\n",
        "    return \" \".join([word for word in tokens])"
      ],
      "execution_count": 52,
      "outputs": []
    },
    {
      "cell_type": "code",
      "metadata": {
        "colab": {
          "base_uri": "https://localhost:8080/",
          "height": 206
        },
        "id": "kcdLhfBOBMXB",
        "outputId": "5a802523-e68e-49c6-e401-0a9e871a7d9a"
      },
      "source": [
        "df['sentence'] = stemdf['stemmed_sentence'].apply(lambda x : combine_sentences(x))\n",
        "df.head()"
      ],
      "execution_count": 61,
      "outputs": [
        {
          "output_type": "execute_result",
          "data": {
            "text/html": [
              "<div>\n",
              "<style scoped>\n",
              "    .dataframe tbody tr th:only-of-type {\n",
              "        vertical-align: middle;\n",
              "    }\n",
              "\n",
              "    .dataframe tbody tr th {\n",
              "        vertical-align: top;\n",
              "    }\n",
              "\n",
              "    .dataframe thead th {\n",
              "        text-align: right;\n",
              "    }\n",
              "</style>\n",
              "<table border=\"1\" class=\"dataframe\">\n",
              "  <thead>\n",
              "    <tr style=\"text-align: right;\">\n",
              "      <th></th>\n",
              "      <th>sentence</th>\n",
              "      <th>label</th>\n",
              "      <th>tokens</th>\n",
              "    </tr>\n",
              "  </thead>\n",
              "  <tbody>\n",
              "    <tr>\n",
              "      <th>0</th>\n",
              "      <td>very very very slowmoving aimless movie about ...</td>\n",
              "      <td>0</td>\n",
              "      <td>[very, very, very, slowmoving, aimless, movie,...</td>\n",
              "    </tr>\n",
              "    <tr>\n",
              "      <th>1</th>\n",
              "      <td>sure more lost flat character audience nearly ...</td>\n",
              "      <td>0</td>\n",
              "      <td>[sure, more, lost, flat, characters, audience,...</td>\n",
              "    </tr>\n",
              "    <tr>\n",
              "      <th>2</th>\n",
              "      <td>Attempting artiness with black white clever ca...</td>\n",
              "      <td>0</td>\n",
              "      <td>[Attempting, artiness, with, black, white, cle...</td>\n",
              "    </tr>\n",
              "    <tr>\n",
              "      <th>3</th>\n",
              "      <td>Very little music anything speak</td>\n",
              "      <td>0</td>\n",
              "      <td>[Very, little, music, anything, speak]</td>\n",
              "    </tr>\n",
              "    <tr>\n",
              "      <th>4</th>\n",
              "      <td>best scene movie when Gerardo trying find song...</td>\n",
              "      <td>1</td>\n",
              "      <td>[best, scene, movie, when, Gerardo, trying, fi...</td>\n",
              "    </tr>\n",
              "  </tbody>\n",
              "</table>\n",
              "</div>"
            ],
            "text/plain": [
              "                                            sentence  ...                                             tokens\n",
              "0  very very very slowmoving aimless movie about ...  ...  [very, very, very, slowmoving, aimless, movie,...\n",
              "1  sure more lost flat character audience nearly ...  ...  [sure, more, lost, flat, characters, audience,...\n",
              "2  Attempting artiness with black white clever ca...  ...  [Attempting, artiness, with, black, white, cle...\n",
              "3                   Very little music anything speak  ...             [Very, little, music, anything, speak]\n",
              "4  best scene movie when Gerardo trying find song...  ...  [best, scene, movie, when, Gerardo, trying, fi...\n",
              "\n",
              "[5 rows x 3 columns]"
            ]
          },
          "metadata": {},
          "execution_count": 61
        }
      ]
    },
    {
      "cell_type": "code",
      "metadata": {
        "colab": {
          "base_uri": "https://localhost:8080/",
          "height": 206
        },
        "id": "KH7MgshbC0E4",
        "outputId": "04568687-0fb5-4d80-83ee-2f73f4c1fee9"
      },
      "source": [
        "df.tail()"
      ],
      "execution_count": 62,
      "outputs": [
        {
          "output_type": "execute_result",
          "data": {
            "text/html": [
              "<div>\n",
              "<style scoped>\n",
              "    .dataframe tbody tr th:only-of-type {\n",
              "        vertical-align: middle;\n",
              "    }\n",
              "\n",
              "    .dataframe tbody tr th {\n",
              "        vertical-align: top;\n",
              "    }\n",
              "\n",
              "    .dataframe thead th {\n",
              "        text-align: right;\n",
              "    }\n",
              "</style>\n",
              "<table border=\"1\" class=\"dataframe\">\n",
              "  <thead>\n",
              "    <tr style=\"text-align: right;\">\n",
              "      <th></th>\n",
              "      <th>sentence</th>\n",
              "      <th>label</th>\n",
              "      <th>tokens</th>\n",
              "    </tr>\n",
              "  </thead>\n",
              "  <tbody>\n",
              "    <tr>\n",
              "      <th>743</th>\n",
              "      <td>just bored watching Jessice Lange take clothes</td>\n",
              "      <td>0</td>\n",
              "      <td>[just, bored, watching, Jessice, Lange, take, ...</td>\n",
              "    </tr>\n",
              "    <tr>\n",
              "      <th>744</th>\n",
              "      <td>Unfortunately virtue this film production work...</td>\n",
              "      <td>0</td>\n",
              "      <td>[Unfortunately, virtue, this, films, productio...</td>\n",
              "    </tr>\n",
              "    <tr>\n",
              "      <th>745</th>\n",
              "      <td>word embarrassing</td>\n",
              "      <td>0</td>\n",
              "      <td>[word, embarrassing]</td>\n",
              "    </tr>\n",
              "    <tr>\n",
              "      <th>746</th>\n",
              "      <td>Exceptionally</td>\n",
              "      <td>0</td>\n",
              "      <td>[Exceptionally]</td>\n",
              "    </tr>\n",
              "    <tr>\n",
              "      <th>747</th>\n",
              "      <td>insult one intelligence huge waste money</td>\n",
              "      <td>0</td>\n",
              "      <td>[insult, ones, intelligence, huge, waste, money]</td>\n",
              "    </tr>\n",
              "  </tbody>\n",
              "</table>\n",
              "</div>"
            ],
            "text/plain": [
              "                                              sentence  ...                                             tokens\n",
              "743     just bored watching Jessice Lange take clothes  ...  [just, bored, watching, Jessice, Lange, take, ...\n",
              "744  Unfortunately virtue this film production work...  ...  [Unfortunately, virtue, this, films, productio...\n",
              "745                                  word embarrassing  ...                               [word, embarrassing]\n",
              "746                                      Exceptionally  ...                                    [Exceptionally]\n",
              "747           insult one intelligence huge waste money  ...   [insult, ones, intelligence, huge, waste, money]\n",
              "\n",
              "[5 rows x 3 columns]"
            ]
          },
          "metadata": {},
          "execution_count": 62
        }
      ]
    },
    {
      "cell_type": "markdown",
      "metadata": {
        "id": "UAxVlwbt-wy6"
      },
      "source": [
        "## Python Implementation - Vectorizer"
      ]
    },
    {
      "cell_type": "code",
      "metadata": {
        "id": "dZ7TH1LZ9eTs"
      },
      "source": [
        "sentences = df['sentence'].values\n",
        "y = df['label'].values\n",
        "\n",
        "sentences_train, sentences_test, y_train, y_test = train_test_split(sentences, y, test_size=0.25, random_state=1000)\n",
        "vectorizer = CountVectorizer()\n",
        "vectorizer.fit(sentences_train)\n",
        "\n",
        "x_train = vectorizer.transform(sentences_train)\n",
        "x_test = vectorizer.transform(sentences_test)"
      ],
      "execution_count": 58,
      "outputs": []
    },
    {
      "cell_type": "markdown",
      "metadata": {
        "id": "3OSC1DJ2CZIw"
      },
      "source": [
        "## Classify with logistic regression"
      ]
    },
    {
      "cell_type": "code",
      "metadata": {
        "colab": {
          "base_uri": "https://localhost:8080/"
        },
        "id": "n9CiXwU2CW0t",
        "outputId": "c5f62abd-a100-4193-c4f2-862c3f7fd3c6"
      },
      "source": [
        "classifier = LogisticRegression()\n",
        "classifier.fit(x_train, y_train)\n",
        "score = classifier.score(x_test, y_test)\n",
        "\n",
        "print(colored('Model performance', 'green'))\n",
        "print('Accuracy:', score)"
      ],
      "execution_count": 59,
      "outputs": [
        {
          "output_type": "stream",
          "name": "stdout",
          "text": [
            "\u001b[32mModel performance\u001b[0m\n",
            "Accuracy: 0.7540106951871658\n"
          ]
        }
      ]
    },
    {
      "cell_type": "code",
      "metadata": {
        "id": "jqPCQfLOCdSR"
      },
      "source": [
        ""
      ],
      "execution_count": null,
      "outputs": []
    }
  ]
}